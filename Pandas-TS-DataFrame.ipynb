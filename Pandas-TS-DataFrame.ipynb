{
 "cells": [
  {
   "cell_type": "code",
   "execution_count": 1,
   "metadata": {},
   "outputs": [],
   "source": [
    "import pandas as pd\n",
    "import numpy as np\n",
    "import matplotlib.pyplot as plt\n",
    "%matplotlib inline"
   ]
  },
  {
   "cell_type": "code",
   "execution_count": 3,
   "metadata": {},
   "outputs": [
    {
     "name": "stderr",
     "output_type": "stream",
     "text": [
      "/opt/anaconda3/lib/python3.8/site-packages/IPython/core/interactiveshell.py:3071: DtypeWarning: Columns (3) have mixed types.Specify dtype option on import or set low_memory=False.\n",
      "  has_raised = await self.run_ast_nodes(code_ast.body, cell_name,\n"
     ]
    }
   ],
   "source": [
    "movie = pd.read_csv(\"movies.csv\")"
   ]
  },
  {
   "cell_type": "code",
   "execution_count": 4,
   "metadata": {},
   "outputs": [
    {
     "data": {
      "text/html": [
       "<div>\n",
       "<style scoped>\n",
       "    .dataframe tbody tr th:only-of-type {\n",
       "        vertical-align: middle;\n",
       "    }\n",
       "\n",
       "    .dataframe tbody tr th {\n",
       "        vertical-align: top;\n",
       "    }\n",
       "\n",
       "    .dataframe thead th {\n",
       "        text-align: right;\n",
       "    }\n",
       "</style>\n",
       "<table border=\"1\" class=\"dataframe\">\n",
       "  <thead>\n",
       "    <tr style=\"text-align: right;\">\n",
       "      <th></th>\n",
       "      <th>imdb_title_id</th>\n",
       "      <th>title</th>\n",
       "      <th>original_title</th>\n",
       "      <th>year</th>\n",
       "      <th>date_published</th>\n",
       "      <th>genre</th>\n",
       "      <th>duration</th>\n",
       "      <th>country</th>\n",
       "      <th>language</th>\n",
       "      <th>director</th>\n",
       "      <th>...</th>\n",
       "      <th>actors</th>\n",
       "      <th>description</th>\n",
       "      <th>avg_vote</th>\n",
       "      <th>votes</th>\n",
       "      <th>budget</th>\n",
       "      <th>usa_gross_income</th>\n",
       "      <th>worlwide_gross_income</th>\n",
       "      <th>metascore</th>\n",
       "      <th>reviews_from_users</th>\n",
       "      <th>reviews_from_critics</th>\n",
       "    </tr>\n",
       "  </thead>\n",
       "  <tbody>\n",
       "    <tr>\n",
       "      <th>0</th>\n",
       "      <td>tt0000009</td>\n",
       "      <td>Miss Jerry</td>\n",
       "      <td>Miss Jerry</td>\n",
       "      <td>1894</td>\n",
       "      <td>1894-10-09</td>\n",
       "      <td>Romance</td>\n",
       "      <td>45</td>\n",
       "      <td>USA</td>\n",
       "      <td>None</td>\n",
       "      <td>Alexander Black</td>\n",
       "      <td>...</td>\n",
       "      <td>Blanche Bayliss, William Courtenay, Chauncey D...</td>\n",
       "      <td>The adventures of a female reporter in the 1890s.</td>\n",
       "      <td>5.9</td>\n",
       "      <td>154</td>\n",
       "      <td>NaN</td>\n",
       "      <td>NaN</td>\n",
       "      <td>NaN</td>\n",
       "      <td>NaN</td>\n",
       "      <td>1.0</td>\n",
       "      <td>2.0</td>\n",
       "    </tr>\n",
       "    <tr>\n",
       "      <th>1</th>\n",
       "      <td>tt0000574</td>\n",
       "      <td>The Story of the Kelly Gang</td>\n",
       "      <td>The Story of the Kelly Gang</td>\n",
       "      <td>1906</td>\n",
       "      <td>1906-12-26</td>\n",
       "      <td>Biography, Crime, Drama</td>\n",
       "      <td>70</td>\n",
       "      <td>Australia</td>\n",
       "      <td>None</td>\n",
       "      <td>Charles Tait</td>\n",
       "      <td>...</td>\n",
       "      <td>Elizabeth Tait, John Tait, Norman Campbell, Be...</td>\n",
       "      <td>True story of notorious Australian outlaw Ned ...</td>\n",
       "      <td>6.1</td>\n",
       "      <td>589</td>\n",
       "      <td>$ 2250</td>\n",
       "      <td>NaN</td>\n",
       "      <td>NaN</td>\n",
       "      <td>NaN</td>\n",
       "      <td>7.0</td>\n",
       "      <td>7.0</td>\n",
       "    </tr>\n",
       "    <tr>\n",
       "      <th>2</th>\n",
       "      <td>tt0001892</td>\n",
       "      <td>Den sorte drøm</td>\n",
       "      <td>Den sorte drøm</td>\n",
       "      <td>1911</td>\n",
       "      <td>1911-08-19</td>\n",
       "      <td>Drama</td>\n",
       "      <td>53</td>\n",
       "      <td>Germany, Denmark</td>\n",
       "      <td>NaN</td>\n",
       "      <td>Urban Gad</td>\n",
       "      <td>...</td>\n",
       "      <td>Asta Nielsen, Valdemar Psilander, Gunnar Helse...</td>\n",
       "      <td>Two men of high rank are both wooing the beaut...</td>\n",
       "      <td>5.8</td>\n",
       "      <td>188</td>\n",
       "      <td>NaN</td>\n",
       "      <td>NaN</td>\n",
       "      <td>NaN</td>\n",
       "      <td>NaN</td>\n",
       "      <td>5.0</td>\n",
       "      <td>2.0</td>\n",
       "    </tr>\n",
       "    <tr>\n",
       "      <th>3</th>\n",
       "      <td>tt0002101</td>\n",
       "      <td>Cleopatra</td>\n",
       "      <td>Cleopatra</td>\n",
       "      <td>1912</td>\n",
       "      <td>1912-11-13</td>\n",
       "      <td>Drama, History</td>\n",
       "      <td>100</td>\n",
       "      <td>USA</td>\n",
       "      <td>English</td>\n",
       "      <td>Charles L. Gaskill</td>\n",
       "      <td>...</td>\n",
       "      <td>Helen Gardner, Pearl Sindelar, Miss Fielding, ...</td>\n",
       "      <td>The fabled queen of Egypt's affair with Roman ...</td>\n",
       "      <td>5.2</td>\n",
       "      <td>446</td>\n",
       "      <td>$ 45000</td>\n",
       "      <td>NaN</td>\n",
       "      <td>NaN</td>\n",
       "      <td>NaN</td>\n",
       "      <td>25.0</td>\n",
       "      <td>3.0</td>\n",
       "    </tr>\n",
       "    <tr>\n",
       "      <th>4</th>\n",
       "      <td>tt0002130</td>\n",
       "      <td>L'Inferno</td>\n",
       "      <td>L'Inferno</td>\n",
       "      <td>1911</td>\n",
       "      <td>1911-03-06</td>\n",
       "      <td>Adventure, Drama, Fantasy</td>\n",
       "      <td>68</td>\n",
       "      <td>Italy</td>\n",
       "      <td>Italian</td>\n",
       "      <td>Francesco Bertolini, Adolfo Padovan</td>\n",
       "      <td>...</td>\n",
       "      <td>Salvatore Papa, Arturo Pirovano, Giuseppe de L...</td>\n",
       "      <td>Loosely adapted from Dante's Divine Comedy and...</td>\n",
       "      <td>7.0</td>\n",
       "      <td>2237</td>\n",
       "      <td>NaN</td>\n",
       "      <td>NaN</td>\n",
       "      <td>NaN</td>\n",
       "      <td>NaN</td>\n",
       "      <td>31.0</td>\n",
       "      <td>14.0</td>\n",
       "    </tr>\n",
       "  </tbody>\n",
       "</table>\n",
       "<p>5 rows × 22 columns</p>\n",
       "</div>"
      ],
      "text/plain": [
       "  imdb_title_id                        title               original_title  \\\n",
       "0     tt0000009                   Miss Jerry                   Miss Jerry   \n",
       "1     tt0000574  The Story of the Kelly Gang  The Story of the Kelly Gang   \n",
       "2     tt0001892               Den sorte drøm               Den sorte drøm   \n",
       "3     tt0002101                    Cleopatra                    Cleopatra   \n",
       "4     tt0002130                    L'Inferno                    L'Inferno   \n",
       "\n",
       "   year date_published                      genre  duration           country  \\\n",
       "0  1894     1894-10-09                    Romance        45               USA   \n",
       "1  1906     1906-12-26    Biography, Crime, Drama        70         Australia   \n",
       "2  1911     1911-08-19                      Drama        53  Germany, Denmark   \n",
       "3  1912     1912-11-13             Drama, History       100               USA   \n",
       "4  1911     1911-03-06  Adventure, Drama, Fantasy        68             Italy   \n",
       "\n",
       "  language                             director  ...  \\\n",
       "0     None                      Alexander Black  ...   \n",
       "1     None                         Charles Tait  ...   \n",
       "2      NaN                            Urban Gad  ...   \n",
       "3  English                   Charles L. Gaskill  ...   \n",
       "4  Italian  Francesco Bertolini, Adolfo Padovan  ...   \n",
       "\n",
       "                                              actors  \\\n",
       "0  Blanche Bayliss, William Courtenay, Chauncey D...   \n",
       "1  Elizabeth Tait, John Tait, Norman Campbell, Be...   \n",
       "2  Asta Nielsen, Valdemar Psilander, Gunnar Helse...   \n",
       "3  Helen Gardner, Pearl Sindelar, Miss Fielding, ...   \n",
       "4  Salvatore Papa, Arturo Pirovano, Giuseppe de L...   \n",
       "\n",
       "                                         description avg_vote votes   budget  \\\n",
       "0  The adventures of a female reporter in the 1890s.      5.9   154      NaN   \n",
       "1  True story of notorious Australian outlaw Ned ...      6.1   589   $ 2250   \n",
       "2  Two men of high rank are both wooing the beaut...      5.8   188      NaN   \n",
       "3  The fabled queen of Egypt's affair with Roman ...      5.2   446  $ 45000   \n",
       "4  Loosely adapted from Dante's Divine Comedy and...      7.0  2237      NaN   \n",
       "\n",
       "   usa_gross_income worlwide_gross_income metascore reviews_from_users  \\\n",
       "0               NaN                   NaN       NaN                1.0   \n",
       "1               NaN                   NaN       NaN                7.0   \n",
       "2               NaN                   NaN       NaN                5.0   \n",
       "3               NaN                   NaN       NaN               25.0   \n",
       "4               NaN                   NaN       NaN               31.0   \n",
       "\n",
       "   reviews_from_critics  \n",
       "0                   2.0  \n",
       "1                   7.0  \n",
       "2                   2.0  \n",
       "3                   3.0  \n",
       "4                  14.0  \n",
       "\n",
       "[5 rows x 22 columns]"
      ]
     },
     "execution_count": 4,
     "metadata": {},
     "output_type": "execute_result"
    }
   ],
   "source": [
    "movie.head()"
   ]
  },
  {
   "cell_type": "code",
   "execution_count": 9,
   "metadata": {},
   "outputs": [],
   "source": [
    "index = movie.index"
   ]
  },
  {
   "cell_type": "code",
   "execution_count": 12,
   "metadata": {},
   "outputs": [],
   "source": [
    "columns = movie.columns"
   ]
  },
  {
   "cell_type": "code",
   "execution_count": 11,
   "metadata": {},
   "outputs": [],
   "source": [
    "values = movie.values"
   ]
  },
  {
   "cell_type": "code",
   "execution_count": 13,
   "metadata": {},
   "outputs": [
    {
     "name": "stdout",
     "output_type": "stream",
     "text": [
      "RangeIndex(start=0, stop=85855, step=1)\n",
      "Index(['imdb_title_id', 'title', 'original_title', 'year', 'date_published',\n",
      "       'genre', 'duration', 'country', 'language', 'director', 'writer',\n",
      "       'production_company', 'actors', 'description', 'avg_vote', 'votes',\n",
      "       'budget', 'usa_gross_income', 'worlwide_gross_income', 'metascore',\n",
      "       'reviews_from_users', 'reviews_from_critics'],\n",
      "      dtype='object')\n",
      "[['tt0000009' 'Miss Jerry' 'Miss Jerry' ... nan 1.0 2.0]\n",
      " ['tt0000574' 'The Story of the Kelly Gang' 'The Story of the Kelly Gang'\n",
      "  ... nan 7.0 7.0]\n",
      " ['tt0001892' 'Den sorte drøm' 'Den sorte drøm' ... nan 5.0 2.0]\n",
      " ...\n",
      " ['tt9911774' 'Padmavyuhathile Abhimanyu' 'Padmavyuhathile Abhimanyu' ...\n",
      "  nan nan nan]\n",
      " ['tt9914286' 'Sokagin Çocuklari' 'Sokagin Çocuklari' ... nan nan nan]\n",
      " ['tt9914942' 'La vida sense la Sara Amat' 'La vida sense la Sara Amat'\n",
      "  ... nan nan 2.0]]\n"
     ]
    }
   ],
   "source": [
    "print(index)\n",
    "print(columns)\n",
    "print(values)"
   ]
  },
  {
   "cell_type": "code",
   "execution_count": 14,
   "metadata": {},
   "outputs": [
    {
     "data": {
      "text/plain": [
       "pandas.core.indexes.range.RangeIndex"
      ]
     },
     "execution_count": 14,
     "metadata": {},
     "output_type": "execute_result"
    }
   ],
   "source": [
    "type(index)"
   ]
  },
  {
   "cell_type": "code",
   "execution_count": 15,
   "metadata": {},
   "outputs": [
    {
     "data": {
      "text/plain": [
       "pandas.core.indexes.base.Index"
      ]
     },
     "execution_count": 15,
     "metadata": {},
     "output_type": "execute_result"
    }
   ],
   "source": [
    "type(columns)"
   ]
  },
  {
   "cell_type": "code",
   "execution_count": 16,
   "metadata": {},
   "outputs": [
    {
     "data": {
      "text/plain": [
       "numpy.ndarray"
      ]
     },
     "execution_count": 16,
     "metadata": {},
     "output_type": "execute_result"
    }
   ],
   "source": [
    "type(values)"
   ]
  },
  {
   "cell_type": "code",
   "execution_count": 18,
   "metadata": {},
   "outputs": [
    {
     "data": {
      "text/plain": [
       "True"
      ]
     },
     "execution_count": 18,
     "metadata": {},
     "output_type": "execute_result"
    }
   ],
   "source": [
    "issubclass(pd.RangeIndex, pd.Index)"
   ]
  },
  {
   "cell_type": "code",
   "execution_count": 19,
   "metadata": {},
   "outputs": [
    {
     "data": {
      "text/plain": [
       "array([    0,     1,     2, ..., 85852, 85853, 85854])"
      ]
     },
     "execution_count": 19,
     "metadata": {},
     "output_type": "execute_result"
    }
   ],
   "source": [
    "index.values"
   ]
  },
  {
   "cell_type": "code",
   "execution_count": 20,
   "metadata": {},
   "outputs": [
    {
     "data": {
      "text/plain": [
       "array(['imdb_title_id', 'title', 'original_title', 'year',\n",
       "       'date_published', 'genre', 'duration', 'country', 'language',\n",
       "       'director', 'writer', 'production_company', 'actors',\n",
       "       'description', 'avg_vote', 'votes', 'budget', 'usa_gross_income',\n",
       "       'worlwide_gross_income', 'metascore', 'reviews_from_users',\n",
       "       'reviews_from_critics'], dtype=object)"
      ]
     },
     "execution_count": 20,
     "metadata": {},
     "output_type": "execute_result"
    }
   ],
   "source": [
    "columns.values"
   ]
  },
  {
   "cell_type": "code",
   "execution_count": 22,
   "metadata": {},
   "outputs": [
    {
     "data": {
      "text/plain": [
       "imdb_title_id             object\n",
       "title                     object\n",
       "original_title            object\n",
       "year                      object\n",
       "date_published            object\n",
       "genre                     object\n",
       "duration                   int64\n",
       "country                   object\n",
       "language                  object\n",
       "director                  object\n",
       "writer                    object\n",
       "production_company        object\n",
       "actors                    object\n",
       "description               object\n",
       "avg_vote                 float64\n",
       "votes                      int64\n",
       "budget                    object\n",
       "usa_gross_income          object\n",
       "worlwide_gross_income     object\n",
       "metascore                float64\n",
       "reviews_from_users       float64\n",
       "reviews_from_critics     float64\n",
       "dtype: object"
      ]
     },
     "execution_count": 22,
     "metadata": {},
     "output_type": "execute_result"
    }
   ],
   "source": [
    "movie.dtypes"
   ]
  },
  {
   "cell_type": "code",
   "execution_count": 27,
   "metadata": {},
   "outputs": [
    {
     "data": {
      "text/plain": [
       "object     16\n",
       "float64     4\n",
       "int64       2\n",
       "dtype: int64"
      ]
     },
     "execution_count": 27,
     "metadata": {},
     "output_type": "execute_result"
    }
   ],
   "source": [
    "movie.dtypes.value_counts()"
   ]
  },
  {
   "cell_type": "code",
   "execution_count": 29,
   "metadata": {},
   "outputs": [
    {
     "data": {
      "text/plain": [
       "0                            Alexander Black\n",
       "1                               Charles Tait\n",
       "2                                  Urban Gad\n",
       "3                         Charles L. Gaskill\n",
       "4        Francesco Bertolini, Adolfo Padovan\n",
       "                        ...                 \n",
       "85850                 Ludovic Colbeau-Justin\n",
       "85851                        Johan Nijenhuis\n",
       "85852                        Vineesh Aaradya\n",
       "85853                      Ahmet Faik Akinci\n",
       "85854                              Laura Jou\n",
       "Name: director, Length: 85855, dtype: object"
      ]
     },
     "execution_count": 29,
     "metadata": {},
     "output_type": "execute_result"
    }
   ],
   "source": [
    "movie.director"
   ]
  },
  {
   "cell_type": "code",
   "execution_count": 30,
   "metadata": {},
   "outputs": [
    {
     "data": {
      "text/plain": [
       "pandas.core.series.Series"
      ]
     },
     "execution_count": 30,
     "metadata": {},
     "output_type": "execute_result"
    }
   ],
   "source": [
    "type(movie['director'])"
   ]
  },
  {
   "cell_type": "code",
   "execution_count": 32,
   "metadata": {},
   "outputs": [],
   "source": [
    "director = movie['director']"
   ]
  },
  {
   "cell_type": "code",
   "execution_count": 34,
   "metadata": {},
   "outputs": [
    {
     "data": {
      "text/plain": [
       "'director'"
      ]
     },
     "execution_count": 34,
     "metadata": {},
     "output_type": "execute_result"
    }
   ],
   "source": [
    "director.name"
   ]
  },
  {
   "cell_type": "code",
   "execution_count": 35,
   "metadata": {},
   "outputs": [
    {
     "data": {
      "text/html": [
       "<div>\n",
       "<style scoped>\n",
       "    .dataframe tbody tr th:only-of-type {\n",
       "        vertical-align: middle;\n",
       "    }\n",
       "\n",
       "    .dataframe tbody tr th {\n",
       "        vertical-align: top;\n",
       "    }\n",
       "\n",
       "    .dataframe thead th {\n",
       "        text-align: right;\n",
       "    }\n",
       "</style>\n",
       "<table border=\"1\" class=\"dataframe\">\n",
       "  <thead>\n",
       "    <tr style=\"text-align: right;\">\n",
       "      <th></th>\n",
       "      <th>director</th>\n",
       "    </tr>\n",
       "  </thead>\n",
       "  <tbody>\n",
       "    <tr>\n",
       "      <th>0</th>\n",
       "      <td>Alexander Black</td>\n",
       "    </tr>\n",
       "    <tr>\n",
       "      <th>1</th>\n",
       "      <td>Charles Tait</td>\n",
       "    </tr>\n",
       "    <tr>\n",
       "      <th>2</th>\n",
       "      <td>Urban Gad</td>\n",
       "    </tr>\n",
       "    <tr>\n",
       "      <th>3</th>\n",
       "      <td>Charles L. Gaskill</td>\n",
       "    </tr>\n",
       "    <tr>\n",
       "      <th>4</th>\n",
       "      <td>Francesco Bertolini, Adolfo Padovan</td>\n",
       "    </tr>\n",
       "    <tr>\n",
       "      <th>...</th>\n",
       "      <td>...</td>\n",
       "    </tr>\n",
       "    <tr>\n",
       "      <th>85850</th>\n",
       "      <td>Ludovic Colbeau-Justin</td>\n",
       "    </tr>\n",
       "    <tr>\n",
       "      <th>85851</th>\n",
       "      <td>Johan Nijenhuis</td>\n",
       "    </tr>\n",
       "    <tr>\n",
       "      <th>85852</th>\n",
       "      <td>Vineesh Aaradya</td>\n",
       "    </tr>\n",
       "    <tr>\n",
       "      <th>85853</th>\n",
       "      <td>Ahmet Faik Akinci</td>\n",
       "    </tr>\n",
       "    <tr>\n",
       "      <th>85854</th>\n",
       "      <td>Laura Jou</td>\n",
       "    </tr>\n",
       "  </tbody>\n",
       "</table>\n",
       "<p>85855 rows × 1 columns</p>\n",
       "</div>"
      ],
      "text/plain": [
       "                                  director\n",
       "0                          Alexander Black\n",
       "1                             Charles Tait\n",
       "2                                Urban Gad\n",
       "3                       Charles L. Gaskill\n",
       "4      Francesco Bertolini, Adolfo Padovan\n",
       "...                                    ...\n",
       "85850               Ludovic Colbeau-Justin\n",
       "85851                      Johan Nijenhuis\n",
       "85852                      Vineesh Aaradya\n",
       "85853                    Ahmet Faik Akinci\n",
       "85854                            Laura Jou\n",
       "\n",
       "[85855 rows x 1 columns]"
      ]
     },
     "execution_count": 35,
     "metadata": {},
     "output_type": "execute_result"
    }
   ],
   "source": [
    "director.to_frame()"
   ]
  },
  {
   "cell_type": "code",
   "execution_count": 36,
   "metadata": {},
   "outputs": [],
   "source": [
    "s_attr_methods = set(dir(pd.Series))"
   ]
  },
  {
   "cell_type": "code",
   "execution_count": 37,
   "metadata": {},
   "outputs": [
    {
     "data": {
      "text/plain": [
       "433"
      ]
     },
     "execution_count": 37,
     "metadata": {},
     "output_type": "execute_result"
    }
   ],
   "source": [
    "len(s_attr_methods)"
   ]
  },
  {
   "cell_type": "code",
   "execution_count": 38,
   "metadata": {},
   "outputs": [
    {
     "data": {
      "text/plain": [
       "430"
      ]
     },
     "execution_count": 38,
     "metadata": {},
     "output_type": "execute_result"
    }
   ],
   "source": [
    "df_attr_methods = set(dir(pd.DataFrame))\n",
    "\n",
    "len(df_attr_methods)"
   ]
  },
  {
   "cell_type": "code",
   "execution_count": 39,
   "metadata": {},
   "outputs": [],
   "source": [
    "director = movie['director']"
   ]
  },
  {
   "cell_type": "code",
   "execution_count": 40,
   "metadata": {},
   "outputs": [],
   "source": [
    "votes = movie['votes']"
   ]
  },
  {
   "cell_type": "code",
   "execution_count": 41,
   "metadata": {},
   "outputs": [
    {
     "data": {
      "text/plain": [
       "0                        Alexander Black\n",
       "1                           Charles Tait\n",
       "2                              Urban Gad\n",
       "3                     Charles L. Gaskill\n",
       "4    Francesco Bertolini, Adolfo Padovan\n",
       "Name: director, dtype: object"
      ]
     },
     "execution_count": 41,
     "metadata": {},
     "output_type": "execute_result"
    }
   ],
   "source": [
    "director.head()"
   ]
  },
  {
   "cell_type": "code",
   "execution_count": 42,
   "metadata": {},
   "outputs": [
    {
     "data": {
      "text/plain": [
       "0     154\n",
       "1     589\n",
       "2     188\n",
       "3     446\n",
       "4    2237\n",
       "Name: votes, dtype: int64"
      ]
     },
     "execution_count": 42,
     "metadata": {},
     "output_type": "execute_result"
    }
   ],
   "source": [
    "votes.head()"
   ]
  },
  {
   "cell_type": "code",
   "execution_count": 44,
   "metadata": {},
   "outputs": [
    {
     "data": {
      "text/plain": [
       "Jesús Franco                87\n",
       "Michael Curtiz              85\n",
       "Lesley Selander             78\n",
       "Lloyd Bacon                 73\n",
       "William Beaudine            70\n",
       "                            ..\n",
       "Raj Babu                     1\n",
       "Alex Lvovsky, Joe Walser     1\n",
       "Dan Bootzin                  1\n",
       "Luke White                   1\n",
       "Rachmania Arunita            1\n",
       "Name: director, Length: 34733, dtype: int64"
      ]
     },
     "execution_count": 44,
     "metadata": {},
     "output_type": "execute_result"
    }
   ],
   "source": [
    "director.value_counts()"
   ]
  },
  {
   "cell_type": "code",
   "execution_count": 45,
   "metadata": {},
   "outputs": [
    {
     "data": {
      "text/plain": [
       "102       316\n",
       "101       315\n",
       "105       309\n",
       "100       308\n",
       "106       295\n",
       "         ... \n",
       "14243       1\n",
       "132502      1\n",
       "26473       1\n",
       "8038        1\n",
       "4098        1\n",
       "Name: votes, Length: 14933, dtype: int64"
      ]
     },
     "execution_count": 45,
     "metadata": {},
     "output_type": "execute_result"
    }
   ],
   "source": [
    "votes.value_counts()"
   ]
  },
  {
   "cell_type": "code",
   "execution_count": 46,
   "metadata": {},
   "outputs": [
    {
     "data": {
      "text/plain": [
       "85855"
      ]
     },
     "execution_count": 46,
     "metadata": {},
     "output_type": "execute_result"
    }
   ],
   "source": [
    "director.size"
   ]
  },
  {
   "cell_type": "code",
   "execution_count": 47,
   "metadata": {},
   "outputs": [
    {
     "data": {
      "text/plain": [
       "(85855,)"
      ]
     },
     "execution_count": 47,
     "metadata": {},
     "output_type": "execute_result"
    }
   ],
   "source": [
    "director.shape"
   ]
  },
  {
   "cell_type": "code",
   "execution_count": 48,
   "metadata": {},
   "outputs": [
    {
     "data": {
      "text/plain": [
       "85855"
      ]
     },
     "execution_count": 48,
     "metadata": {},
     "output_type": "execute_result"
    }
   ],
   "source": [
    "len(director)"
   ]
  },
  {
   "cell_type": "code",
   "execution_count": 49,
   "metadata": {},
   "outputs": [
    {
     "data": {
      "text/plain": [
       "85768"
      ]
     },
     "execution_count": 49,
     "metadata": {},
     "output_type": "execute_result"
    }
   ],
   "source": [
    "director.count()"
   ]
  },
  {
   "cell_type": "code",
   "execution_count": 51,
   "metadata": {},
   "outputs": [
    {
     "data": {
      "text/plain": [
       "count    8.585500e+04\n",
       "mean     9.493490e+03\n",
       "std      5.357436e+04\n",
       "min      9.900000e+01\n",
       "25%      2.050000e+02\n",
       "50%      4.840000e+02\n",
       "75%      1.766500e+03\n",
       "max      2.278845e+06\n",
       "Name: votes, dtype: float64"
      ]
     },
     "execution_count": 51,
     "metadata": {},
     "output_type": "execute_result"
    }
   ],
   "source": [
    "votes.describe()"
   ]
  },
  {
   "cell_type": "code",
   "execution_count": 52,
   "metadata": {},
   "outputs": [
    {
     "data": {
      "text/plain": [
       "count            85768\n",
       "unique           34733\n",
       "top       Jesús Franco\n",
       "freq                87\n",
       "Name: director, dtype: object"
      ]
     },
     "execution_count": 52,
     "metadata": {},
     "output_type": "execute_result"
    }
   ],
   "source": [
    "director.describe()"
   ]
  },
  {
   "cell_type": "code",
   "execution_count": 56,
   "metadata": {},
   "outputs": [
    {
     "data": {
      "text/plain": [
       "205.0"
      ]
     },
     "execution_count": 56,
     "metadata": {},
     "output_type": "execute_result"
    }
   ],
   "source": [
    "votes.quantile(.25)"
   ]
  },
  {
   "cell_type": "code",
   "execution_count": 57,
   "metadata": {},
   "outputs": [
    {
     "data": {
      "text/plain": [
       "0        False\n",
       "1        False\n",
       "2        False\n",
       "3        False\n",
       "4        False\n",
       "         ...  \n",
       "85850    False\n",
       "85851    False\n",
       "85852    False\n",
       "85853    False\n",
       "85854    False\n",
       "Name: director, Length: 85855, dtype: bool"
      ]
     },
     "execution_count": 57,
     "metadata": {},
     "output_type": "execute_result"
    }
   ],
   "source": [
    "director.isnull()"
   ]
  },
  {
   "cell_type": "code",
   "execution_count": 58,
   "metadata": {},
   "outputs": [
    {
     "data": {
      "text/plain": [
       "0        False\n",
       "1        False\n",
       "2        False\n",
       "3        False\n",
       "4        False\n",
       "         ...  \n",
       "85850    False\n",
       "85851    False\n",
       "85852    False\n",
       "85853    False\n",
       "85854    False\n",
       "Name: votes, Length: 85855, dtype: bool"
      ]
     },
     "execution_count": 58,
     "metadata": {},
     "output_type": "execute_result"
    }
   ],
   "source": [
    "votes.isnull()"
   ]
  },
  {
   "cell_type": "code",
   "execution_count": 59,
   "metadata": {},
   "outputs": [
    {
     "data": {
      "text/plain": [
       "0         154\n",
       "1         589\n",
       "2         188\n",
       "3         446\n",
       "4        2237\n",
       "         ... \n",
       "85850     398\n",
       "85851     724\n",
       "85852     265\n",
       "85853     194\n",
       "85854     102\n",
       "Name: votes, Length: 85855, dtype: int64"
      ]
     },
     "execution_count": 59,
     "metadata": {},
     "output_type": "execute_result"
    }
   ],
   "source": [
    "votes.fillna(0)"
   ]
  },
  {
   "cell_type": "code",
   "execution_count": 60,
   "metadata": {},
   "outputs": [
    {
     "data": {
      "text/plain": [
       "Jesús Franco                0.001014\n",
       "Michael Curtiz              0.000991\n",
       "Lesley Selander             0.000909\n",
       "Lloyd Bacon                 0.000851\n",
       "William Beaudine            0.000816\n",
       "                              ...   \n",
       "Raj Babu                    0.000012\n",
       "Alex Lvovsky, Joe Walser    0.000012\n",
       "Dan Bootzin                 0.000012\n",
       "Luke White                  0.000012\n",
       "Rachmania Arunita           0.000012\n",
       "Name: director, Length: 34733, dtype: float64"
      ]
     },
     "execution_count": 60,
     "metadata": {},
     "output_type": "execute_result"
    }
   ],
   "source": [
    "director.value_counts(normalize=True)"
   ]
  },
  {
   "cell_type": "code",
   "execution_count": 61,
   "metadata": {},
   "outputs": [
    {
     "data": {
      "text/plain": [
       "True"
      ]
     },
     "execution_count": 61,
     "metadata": {},
     "output_type": "execute_result"
    }
   ],
   "source": [
    "director.hasnans"
   ]
  },
  {
   "cell_type": "code",
   "execution_count": 63,
   "metadata": {},
   "outputs": [
    {
     "data": {
      "text/plain": [
       "0        True\n",
       "1        True\n",
       "2        True\n",
       "3        True\n",
       "4        True\n",
       "         ... \n",
       "85850    True\n",
       "85851    True\n",
       "85852    True\n",
       "85853    True\n",
       "85854    True\n",
       "Name: director, Length: 85855, dtype: bool"
      ]
     },
     "execution_count": 63,
     "metadata": {},
     "output_type": "execute_result"
    }
   ],
   "source": [
    "director.notnull()"
   ]
  },
  {
   "cell_type": "code",
   "execution_count": 64,
   "metadata": {},
   "outputs": [
    {
     "data": {
      "text/plain": [
       "Index(['imdb_title_id', 'title', 'original_title', 'year', 'date_published',\n",
       "       'genre', 'duration', 'country', 'language', 'director', 'writer',\n",
       "       'production_company', 'actors', 'description', 'avg_vote', 'votes',\n",
       "       'budget', 'usa_gross_income', 'worlwide_gross_income', 'metascore',\n",
       "       'reviews_from_users', 'reviews_from_critics'],\n",
       "      dtype='object')"
      ]
     },
     "execution_count": 64,
     "metadata": {},
     "output_type": "execute_result"
    }
   ],
   "source": [
    "movie.columns"
   ]
  },
  {
   "cell_type": "code",
   "execution_count": 68,
   "metadata": {},
   "outputs": [
    {
     "data": {
      "text/plain": [
       "Jesús Franco        87\n",
       "Michael Curtiz      85\n",
       "Lesley Selander     78\n",
       "Lloyd Bacon         73\n",
       "William Beaudine    70\n",
       "Name: director, dtype: int64"
      ]
     },
     "execution_count": 68,
     "metadata": {},
     "output_type": "execute_result"
    }
   ],
   "source": [
    "director.value_counts().head()"
   ]
  },
  {
   "cell_type": "code",
   "execution_count": 75,
   "metadata": {},
   "outputs": [
    {
     "data": {
      "text/plain": [
       "0.0"
      ]
     },
     "execution_count": 75,
     "metadata": {},
     "output_type": "execute_result"
    }
   ],
   "source": [
    "votes.isnull().mean()"
   ]
  },
  {
   "cell_type": "code",
   "execution_count": 74,
   "metadata": {},
   "outputs": [
    {
     "data": {
      "text/plain": [
       "0.001013336439345408"
      ]
     },
     "execution_count": 74,
     "metadata": {},
     "output_type": "execute_result"
    }
   ],
   "source": [
    "director.isnull().mean()"
   ]
  },
  {
   "cell_type": "code",
   "execution_count": 76,
   "metadata": {},
   "outputs": [
    {
     "data": {
      "text/plain": [
       "87"
      ]
     },
     "execution_count": 76,
     "metadata": {},
     "output_type": "execute_result"
    }
   ],
   "source": [
    "director.isnull().sum()"
   ]
  },
  {
   "cell_type": "code",
   "execution_count": 78,
   "metadata": {},
   "outputs": [
    {
     "data": {
      "text/plain": [
       "Index(['imdb_title_id', 'title', 'original_title', 'year', 'date_published',\n",
       "       'genre', 'duration', 'country', 'language', 'director', 'writer',\n",
       "       'production_company', 'actors', 'description', 'avg_vote', 'votes',\n",
       "       'budget', 'usa_gross_income', 'worlwide_gross_income', 'metascore',\n",
       "       'reviews_from_users', 'reviews_from_critics'],\n",
       "      dtype='object')"
      ]
     },
     "execution_count": 78,
     "metadata": {},
     "output_type": "execute_result"
    }
   ],
   "source": [
    "movie.columns"
   ]
  },
  {
   "cell_type": "code",
   "execution_count": 80,
   "metadata": {},
   "outputs": [
    {
     "name": "stderr",
     "output_type": "stream",
     "text": [
      "/opt/anaconda3/lib/python3.8/site-packages/IPython/core/interactiveshell.py:3071: DtypeWarning: Columns (3) have mixed types.Specify dtype option on import or set low_memory=False.\n",
      "  has_raised = await self.run_ast_nodes(code_ast.body, cell_name,\n"
     ]
    }
   ],
   "source": [
    "movie = pd.read_csv(\"movies.csv\", index_col='title')"
   ]
  },
  {
   "cell_type": "code",
   "execution_count": 81,
   "metadata": {},
   "outputs": [
    {
     "data": {
      "text/html": [
       "<div>\n",
       "<style scoped>\n",
       "    .dataframe tbody tr th:only-of-type {\n",
       "        vertical-align: middle;\n",
       "    }\n",
       "\n",
       "    .dataframe tbody tr th {\n",
       "        vertical-align: top;\n",
       "    }\n",
       "\n",
       "    .dataframe thead th {\n",
       "        text-align: right;\n",
       "    }\n",
       "</style>\n",
       "<table border=\"1\" class=\"dataframe\">\n",
       "  <thead>\n",
       "    <tr style=\"text-align: right;\">\n",
       "      <th></th>\n",
       "      <th>imdb_title_id</th>\n",
       "      <th>original_title</th>\n",
       "      <th>year</th>\n",
       "      <th>date_published</th>\n",
       "      <th>genre</th>\n",
       "      <th>duration</th>\n",
       "      <th>country</th>\n",
       "      <th>language</th>\n",
       "      <th>director</th>\n",
       "      <th>writer</th>\n",
       "      <th>...</th>\n",
       "      <th>actors</th>\n",
       "      <th>description</th>\n",
       "      <th>avg_vote</th>\n",
       "      <th>votes</th>\n",
       "      <th>budget</th>\n",
       "      <th>usa_gross_income</th>\n",
       "      <th>worlwide_gross_income</th>\n",
       "      <th>metascore</th>\n",
       "      <th>reviews_from_users</th>\n",
       "      <th>reviews_from_critics</th>\n",
       "    </tr>\n",
       "    <tr>\n",
       "      <th>title</th>\n",
       "      <th></th>\n",
       "      <th></th>\n",
       "      <th></th>\n",
       "      <th></th>\n",
       "      <th></th>\n",
       "      <th></th>\n",
       "      <th></th>\n",
       "      <th></th>\n",
       "      <th></th>\n",
       "      <th></th>\n",
       "      <th></th>\n",
       "      <th></th>\n",
       "      <th></th>\n",
       "      <th></th>\n",
       "      <th></th>\n",
       "      <th></th>\n",
       "      <th></th>\n",
       "      <th></th>\n",
       "      <th></th>\n",
       "      <th></th>\n",
       "      <th></th>\n",
       "    </tr>\n",
       "  </thead>\n",
       "  <tbody>\n",
       "    <tr>\n",
       "      <th>Miss Jerry</th>\n",
       "      <td>tt0000009</td>\n",
       "      <td>Miss Jerry</td>\n",
       "      <td>1894</td>\n",
       "      <td>1894-10-09</td>\n",
       "      <td>Romance</td>\n",
       "      <td>45</td>\n",
       "      <td>USA</td>\n",
       "      <td>None</td>\n",
       "      <td>Alexander Black</td>\n",
       "      <td>Alexander Black</td>\n",
       "      <td>...</td>\n",
       "      <td>Blanche Bayliss, William Courtenay, Chauncey D...</td>\n",
       "      <td>The adventures of a female reporter in the 1890s.</td>\n",
       "      <td>5.9</td>\n",
       "      <td>154</td>\n",
       "      <td>NaN</td>\n",
       "      <td>NaN</td>\n",
       "      <td>NaN</td>\n",
       "      <td>NaN</td>\n",
       "      <td>1.0</td>\n",
       "      <td>2.0</td>\n",
       "    </tr>\n",
       "    <tr>\n",
       "      <th>The Story of the Kelly Gang</th>\n",
       "      <td>tt0000574</td>\n",
       "      <td>The Story of the Kelly Gang</td>\n",
       "      <td>1906</td>\n",
       "      <td>1906-12-26</td>\n",
       "      <td>Biography, Crime, Drama</td>\n",
       "      <td>70</td>\n",
       "      <td>Australia</td>\n",
       "      <td>None</td>\n",
       "      <td>Charles Tait</td>\n",
       "      <td>Charles Tait</td>\n",
       "      <td>...</td>\n",
       "      <td>Elizabeth Tait, John Tait, Norman Campbell, Be...</td>\n",
       "      <td>True story of notorious Australian outlaw Ned ...</td>\n",
       "      <td>6.1</td>\n",
       "      <td>589</td>\n",
       "      <td>$ 2250</td>\n",
       "      <td>NaN</td>\n",
       "      <td>NaN</td>\n",
       "      <td>NaN</td>\n",
       "      <td>7.0</td>\n",
       "      <td>7.0</td>\n",
       "    </tr>\n",
       "    <tr>\n",
       "      <th>Den sorte drøm</th>\n",
       "      <td>tt0001892</td>\n",
       "      <td>Den sorte drøm</td>\n",
       "      <td>1911</td>\n",
       "      <td>1911-08-19</td>\n",
       "      <td>Drama</td>\n",
       "      <td>53</td>\n",
       "      <td>Germany, Denmark</td>\n",
       "      <td>NaN</td>\n",
       "      <td>Urban Gad</td>\n",
       "      <td>Urban Gad, Gebhard Schätzler-Perasini</td>\n",
       "      <td>...</td>\n",
       "      <td>Asta Nielsen, Valdemar Psilander, Gunnar Helse...</td>\n",
       "      <td>Two men of high rank are both wooing the beaut...</td>\n",
       "      <td>5.8</td>\n",
       "      <td>188</td>\n",
       "      <td>NaN</td>\n",
       "      <td>NaN</td>\n",
       "      <td>NaN</td>\n",
       "      <td>NaN</td>\n",
       "      <td>5.0</td>\n",
       "      <td>2.0</td>\n",
       "    </tr>\n",
       "    <tr>\n",
       "      <th>Cleopatra</th>\n",
       "      <td>tt0002101</td>\n",
       "      <td>Cleopatra</td>\n",
       "      <td>1912</td>\n",
       "      <td>1912-11-13</td>\n",
       "      <td>Drama, History</td>\n",
       "      <td>100</td>\n",
       "      <td>USA</td>\n",
       "      <td>English</td>\n",
       "      <td>Charles L. Gaskill</td>\n",
       "      <td>Victorien Sardou</td>\n",
       "      <td>...</td>\n",
       "      <td>Helen Gardner, Pearl Sindelar, Miss Fielding, ...</td>\n",
       "      <td>The fabled queen of Egypt's affair with Roman ...</td>\n",
       "      <td>5.2</td>\n",
       "      <td>446</td>\n",
       "      <td>$ 45000</td>\n",
       "      <td>NaN</td>\n",
       "      <td>NaN</td>\n",
       "      <td>NaN</td>\n",
       "      <td>25.0</td>\n",
       "      <td>3.0</td>\n",
       "    </tr>\n",
       "    <tr>\n",
       "      <th>L'Inferno</th>\n",
       "      <td>tt0002130</td>\n",
       "      <td>L'Inferno</td>\n",
       "      <td>1911</td>\n",
       "      <td>1911-03-06</td>\n",
       "      <td>Adventure, Drama, Fantasy</td>\n",
       "      <td>68</td>\n",
       "      <td>Italy</td>\n",
       "      <td>Italian</td>\n",
       "      <td>Francesco Bertolini, Adolfo Padovan</td>\n",
       "      <td>Dante Alighieri</td>\n",
       "      <td>...</td>\n",
       "      <td>Salvatore Papa, Arturo Pirovano, Giuseppe de L...</td>\n",
       "      <td>Loosely adapted from Dante's Divine Comedy and...</td>\n",
       "      <td>7.0</td>\n",
       "      <td>2237</td>\n",
       "      <td>NaN</td>\n",
       "      <td>NaN</td>\n",
       "      <td>NaN</td>\n",
       "      <td>NaN</td>\n",
       "      <td>31.0</td>\n",
       "      <td>14.0</td>\n",
       "    </tr>\n",
       "    <tr>\n",
       "      <th>...</th>\n",
       "      <td>...</td>\n",
       "      <td>...</td>\n",
       "      <td>...</td>\n",
       "      <td>...</td>\n",
       "      <td>...</td>\n",
       "      <td>...</td>\n",
       "      <td>...</td>\n",
       "      <td>...</td>\n",
       "      <td>...</td>\n",
       "      <td>...</td>\n",
       "      <td>...</td>\n",
       "      <td>...</td>\n",
       "      <td>...</td>\n",
       "      <td>...</td>\n",
       "      <td>...</td>\n",
       "      <td>...</td>\n",
       "      <td>...</td>\n",
       "      <td>...</td>\n",
       "      <td>...</td>\n",
       "      <td>...</td>\n",
       "      <td>...</td>\n",
       "    </tr>\n",
       "    <tr>\n",
       "      <th>Le lion</th>\n",
       "      <td>tt9908390</td>\n",
       "      <td>Le lion</td>\n",
       "      <td>2020</td>\n",
       "      <td>2020-01-29</td>\n",
       "      <td>Comedy</td>\n",
       "      <td>95</td>\n",
       "      <td>France, Belgium</td>\n",
       "      <td>French</td>\n",
       "      <td>Ludovic Colbeau-Justin</td>\n",
       "      <td>Alexandre Coquelle, Matthieu Le Naour</td>\n",
       "      <td>...</td>\n",
       "      <td>Dany Boon, Philippe Katerine, Anne Serra, Samu...</td>\n",
       "      <td>A psychiatric hospital patient pretends to be ...</td>\n",
       "      <td>5.3</td>\n",
       "      <td>398</td>\n",
       "      <td>NaN</td>\n",
       "      <td>NaN</td>\n",
       "      <td>$ 3507171</td>\n",
       "      <td>NaN</td>\n",
       "      <td>NaN</td>\n",
       "      <td>4.0</td>\n",
       "    </tr>\n",
       "    <tr>\n",
       "      <th>De Beentjes van Sint-Hildegard</th>\n",
       "      <td>tt9911196</td>\n",
       "      <td>De Beentjes van Sint-Hildegard</td>\n",
       "      <td>2020</td>\n",
       "      <td>2020-02-13</td>\n",
       "      <td>Comedy, Drama</td>\n",
       "      <td>103</td>\n",
       "      <td>Netherlands</td>\n",
       "      <td>German, Dutch</td>\n",
       "      <td>Johan Nijenhuis</td>\n",
       "      <td>Radek Bajgar, Herman Finkers</td>\n",
       "      <td>...</td>\n",
       "      <td>Herman Finkers, Johanna ter Steege, Leonie ter...</td>\n",
       "      <td>A middle-aged veterinary surgeon believes his ...</td>\n",
       "      <td>7.7</td>\n",
       "      <td>724</td>\n",
       "      <td>NaN</td>\n",
       "      <td>NaN</td>\n",
       "      <td>$ 7299062</td>\n",
       "      <td>NaN</td>\n",
       "      <td>6.0</td>\n",
       "      <td>4.0</td>\n",
       "    </tr>\n",
       "    <tr>\n",
       "      <th>Padmavyuhathile Abhimanyu</th>\n",
       "      <td>tt9911774</td>\n",
       "      <td>Padmavyuhathile Abhimanyu</td>\n",
       "      <td>2019</td>\n",
       "      <td>2019-03-08</td>\n",
       "      <td>Drama</td>\n",
       "      <td>130</td>\n",
       "      <td>India</td>\n",
       "      <td>Malayalam</td>\n",
       "      <td>Vineesh Aaradya</td>\n",
       "      <td>Vineesh Aaradya, Vineesh Aaradya</td>\n",
       "      <td>...</td>\n",
       "      <td>Anoop Chandran, Indrans, Sona Nair, Simon Brit...</td>\n",
       "      <td>NaN</td>\n",
       "      <td>7.9</td>\n",
       "      <td>265</td>\n",
       "      <td>NaN</td>\n",
       "      <td>NaN</td>\n",
       "      <td>NaN</td>\n",
       "      <td>NaN</td>\n",
       "      <td>NaN</td>\n",
       "      <td>NaN</td>\n",
       "    </tr>\n",
       "    <tr>\n",
       "      <th>Sokagin Çocuklari</th>\n",
       "      <td>tt9914286</td>\n",
       "      <td>Sokagin Çocuklari</td>\n",
       "      <td>2019</td>\n",
       "      <td>2019-03-15</td>\n",
       "      <td>Drama, Family</td>\n",
       "      <td>98</td>\n",
       "      <td>Turkey</td>\n",
       "      <td>Turkish</td>\n",
       "      <td>Ahmet Faik Akinci</td>\n",
       "      <td>Ahmet Faik Akinci, Kasim Uçkan</td>\n",
       "      <td>...</td>\n",
       "      <td>Ahmet Faik Akinci, Belma Mamati, Metin Keçeci,...</td>\n",
       "      <td>NaN</td>\n",
       "      <td>6.4</td>\n",
       "      <td>194</td>\n",
       "      <td>NaN</td>\n",
       "      <td>NaN</td>\n",
       "      <td>$ 2833</td>\n",
       "      <td>NaN</td>\n",
       "      <td>NaN</td>\n",
       "      <td>NaN</td>\n",
       "    </tr>\n",
       "    <tr>\n",
       "      <th>La vida sense la Sara Amat</th>\n",
       "      <td>tt9914942</td>\n",
       "      <td>La vida sense la Sara Amat</td>\n",
       "      <td>2019</td>\n",
       "      <td>2020-02-05</td>\n",
       "      <td>Drama</td>\n",
       "      <td>74</td>\n",
       "      <td>Spain</td>\n",
       "      <td>Catalan</td>\n",
       "      <td>Laura Jou</td>\n",
       "      <td>Coral Cruz, Pep Puig</td>\n",
       "      <td>...</td>\n",
       "      <td>Maria Morera Colomer, Biel Rossell Pelfort, Is...</td>\n",
       "      <td>Pep, a 13-year-old boy, is in love with a girl...</td>\n",
       "      <td>6.7</td>\n",
       "      <td>102</td>\n",
       "      <td>NaN</td>\n",
       "      <td>NaN</td>\n",
       "      <td>$ 59794</td>\n",
       "      <td>NaN</td>\n",
       "      <td>NaN</td>\n",
       "      <td>2.0</td>\n",
       "    </tr>\n",
       "  </tbody>\n",
       "</table>\n",
       "<p>85855 rows × 21 columns</p>\n",
       "</div>"
      ],
      "text/plain": [
       "                               imdb_title_id                  original_title  \\\n",
       "title                                                                          \n",
       "Miss Jerry                         tt0000009                      Miss Jerry   \n",
       "The Story of the Kelly Gang        tt0000574     The Story of the Kelly Gang   \n",
       "Den sorte drøm                     tt0001892                  Den sorte drøm   \n",
       "Cleopatra                          tt0002101                       Cleopatra   \n",
       "L'Inferno                          tt0002130                       L'Inferno   \n",
       "...                                      ...                             ...   \n",
       "Le lion                            tt9908390                         Le lion   \n",
       "De Beentjes van Sint-Hildegard     tt9911196  De Beentjes van Sint-Hildegard   \n",
       "Padmavyuhathile Abhimanyu          tt9911774       Padmavyuhathile Abhimanyu   \n",
       "Sokagin Çocuklari                  tt9914286               Sokagin Çocuklari   \n",
       "La vida sense la Sara Amat         tt9914942      La vida sense la Sara Amat   \n",
       "\n",
       "                                year date_published  \\\n",
       "title                                                 \n",
       "Miss Jerry                      1894     1894-10-09   \n",
       "The Story of the Kelly Gang     1906     1906-12-26   \n",
       "Den sorte drøm                  1911     1911-08-19   \n",
       "Cleopatra                       1912     1912-11-13   \n",
       "L'Inferno                       1911     1911-03-06   \n",
       "...                              ...            ...   \n",
       "Le lion                         2020     2020-01-29   \n",
       "De Beentjes van Sint-Hildegard  2020     2020-02-13   \n",
       "Padmavyuhathile Abhimanyu       2019     2019-03-08   \n",
       "Sokagin Çocuklari               2019     2019-03-15   \n",
       "La vida sense la Sara Amat      2019     2020-02-05   \n",
       "\n",
       "                                                    genre  duration  \\\n",
       "title                                                                 \n",
       "Miss Jerry                                        Romance        45   \n",
       "The Story of the Kelly Gang       Biography, Crime, Drama        70   \n",
       "Den sorte drøm                                      Drama        53   \n",
       "Cleopatra                                  Drama, History       100   \n",
       "L'Inferno                       Adventure, Drama, Fantasy        68   \n",
       "...                                                   ...       ...   \n",
       "Le lion                                            Comedy        95   \n",
       "De Beentjes van Sint-Hildegard              Comedy, Drama       103   \n",
       "Padmavyuhathile Abhimanyu                           Drama       130   \n",
       "Sokagin Çocuklari                           Drama, Family        98   \n",
       "La vida sense la Sara Amat                          Drama        74   \n",
       "\n",
       "                                         country       language  \\\n",
       "title                                                             \n",
       "Miss Jerry                                   USA           None   \n",
       "The Story of the Kelly Gang            Australia           None   \n",
       "Den sorte drøm                  Germany, Denmark            NaN   \n",
       "Cleopatra                                    USA        English   \n",
       "L'Inferno                                  Italy        Italian   \n",
       "...                                          ...            ...   \n",
       "Le lion                          France, Belgium         French   \n",
       "De Beentjes van Sint-Hildegard       Netherlands  German, Dutch   \n",
       "Padmavyuhathile Abhimanyu                  India      Malayalam   \n",
       "Sokagin Çocuklari                         Turkey        Turkish   \n",
       "La vida sense la Sara Amat                 Spain        Catalan   \n",
       "\n",
       "                                                           director  \\\n",
       "title                                                                 \n",
       "Miss Jerry                                          Alexander Black   \n",
       "The Story of the Kelly Gang                            Charles Tait   \n",
       "Den sorte drøm                                            Urban Gad   \n",
       "Cleopatra                                        Charles L. Gaskill   \n",
       "L'Inferno                       Francesco Bertolini, Adolfo Padovan   \n",
       "...                                                             ...   \n",
       "Le lion                                      Ludovic Colbeau-Justin   \n",
       "De Beentjes van Sint-Hildegard                      Johan Nijenhuis   \n",
       "Padmavyuhathile Abhimanyu                           Vineesh Aaradya   \n",
       "Sokagin Çocuklari                                 Ahmet Faik Akinci   \n",
       "La vida sense la Sara Amat                                Laura Jou   \n",
       "\n",
       "                                                               writer  ...  \\\n",
       "title                                                                  ...   \n",
       "Miss Jerry                                            Alexander Black  ...   \n",
       "The Story of the Kelly Gang                              Charles Tait  ...   \n",
       "Den sorte drøm                  Urban Gad, Gebhard Schätzler-Perasini  ...   \n",
       "Cleopatra                                            Victorien Sardou  ...   \n",
       "L'Inferno                                             Dante Alighieri  ...   \n",
       "...                                                               ...  ...   \n",
       "Le lion                         Alexandre Coquelle, Matthieu Le Naour  ...   \n",
       "De Beentjes van Sint-Hildegard           Radek Bajgar, Herman Finkers  ...   \n",
       "Padmavyuhathile Abhimanyu            Vineesh Aaradya, Vineesh Aaradya  ...   \n",
       "Sokagin Çocuklari                      Ahmet Faik Akinci, Kasim Uçkan  ...   \n",
       "La vida sense la Sara Amat                       Coral Cruz, Pep Puig  ...   \n",
       "\n",
       "                                                                           actors  \\\n",
       "title                                                                               \n",
       "Miss Jerry                      Blanche Bayliss, William Courtenay, Chauncey D...   \n",
       "The Story of the Kelly Gang     Elizabeth Tait, John Tait, Norman Campbell, Be...   \n",
       "Den sorte drøm                  Asta Nielsen, Valdemar Psilander, Gunnar Helse...   \n",
       "Cleopatra                       Helen Gardner, Pearl Sindelar, Miss Fielding, ...   \n",
       "L'Inferno                       Salvatore Papa, Arturo Pirovano, Giuseppe de L...   \n",
       "...                                                                           ...   \n",
       "Le lion                         Dany Boon, Philippe Katerine, Anne Serra, Samu...   \n",
       "De Beentjes van Sint-Hildegard  Herman Finkers, Johanna ter Steege, Leonie ter...   \n",
       "Padmavyuhathile Abhimanyu       Anoop Chandran, Indrans, Sona Nair, Simon Brit...   \n",
       "Sokagin Çocuklari               Ahmet Faik Akinci, Belma Mamati, Metin Keçeci,...   \n",
       "La vida sense la Sara Amat      Maria Morera Colomer, Biel Rossell Pelfort, Is...   \n",
       "\n",
       "                                                                      description  \\\n",
       "title                                                                               \n",
       "Miss Jerry                      The adventures of a female reporter in the 1890s.   \n",
       "The Story of the Kelly Gang     True story of notorious Australian outlaw Ned ...   \n",
       "Den sorte drøm                  Two men of high rank are both wooing the beaut...   \n",
       "Cleopatra                       The fabled queen of Egypt's affair with Roman ...   \n",
       "L'Inferno                       Loosely adapted from Dante's Divine Comedy and...   \n",
       "...                                                                           ...   \n",
       "Le lion                         A psychiatric hospital patient pretends to be ...   \n",
       "De Beentjes van Sint-Hildegard  A middle-aged veterinary surgeon believes his ...   \n",
       "Padmavyuhathile Abhimanyu                                                     NaN   \n",
       "Sokagin Çocuklari                                                             NaN   \n",
       "La vida sense la Sara Amat      Pep, a 13-year-old boy, is in love with a girl...   \n",
       "\n",
       "                               avg_vote  votes   budget usa_gross_income  \\\n",
       "title                                                                      \n",
       "Miss Jerry                          5.9    154      NaN              NaN   \n",
       "The Story of the Kelly Gang         6.1    589   $ 2250              NaN   \n",
       "Den sorte drøm                      5.8    188      NaN              NaN   \n",
       "Cleopatra                           5.2    446  $ 45000              NaN   \n",
       "L'Inferno                           7.0   2237      NaN              NaN   \n",
       "...                                 ...    ...      ...              ...   \n",
       "Le lion                             5.3    398      NaN              NaN   \n",
       "De Beentjes van Sint-Hildegard      7.7    724      NaN              NaN   \n",
       "Padmavyuhathile Abhimanyu           7.9    265      NaN              NaN   \n",
       "Sokagin Çocuklari                   6.4    194      NaN              NaN   \n",
       "La vida sense la Sara Amat          6.7    102      NaN              NaN   \n",
       "\n",
       "                               worlwide_gross_income metascore  \\\n",
       "title                                                            \n",
       "Miss Jerry                                       NaN       NaN   \n",
       "The Story of the Kelly Gang                      NaN       NaN   \n",
       "Den sorte drøm                                   NaN       NaN   \n",
       "Cleopatra                                        NaN       NaN   \n",
       "L'Inferno                                        NaN       NaN   \n",
       "...                                              ...       ...   \n",
       "Le lion                                    $ 3507171       NaN   \n",
       "De Beentjes van Sint-Hildegard             $ 7299062       NaN   \n",
       "Padmavyuhathile Abhimanyu                        NaN       NaN   \n",
       "Sokagin Çocuklari                             $ 2833       NaN   \n",
       "La vida sense la Sara Amat                   $ 59794       NaN   \n",
       "\n",
       "                                reviews_from_users  reviews_from_critics  \n",
       "title                                                                     \n",
       "Miss Jerry                                     1.0                   2.0  \n",
       "The Story of the Kelly Gang                    7.0                   7.0  \n",
       "Den sorte drøm                                 5.0                   2.0  \n",
       "Cleopatra                                     25.0                   3.0  \n",
       "L'Inferno                                     31.0                  14.0  \n",
       "...                                            ...                   ...  \n",
       "Le lion                                        NaN                   4.0  \n",
       "De Beentjes van Sint-Hildegard                 6.0                   4.0  \n",
       "Padmavyuhathile Abhimanyu                      NaN                   NaN  \n",
       "Sokagin Çocuklari                              NaN                   NaN  \n",
       "La vida sense la Sara Amat                     NaN                   2.0  \n",
       "\n",
       "[85855 rows x 21 columns]"
      ]
     },
     "execution_count": 81,
     "metadata": {},
     "output_type": "execute_result"
    }
   ],
   "source": [
    "movie"
   ]
  },
  {
   "cell_type": "code",
   "execution_count": 83,
   "metadata": {},
   "outputs": [
    {
     "data": {
      "text/html": [
       "<div>\n",
       "<style scoped>\n",
       "    .dataframe tbody tr th:only-of-type {\n",
       "        vertical-align: middle;\n",
       "    }\n",
       "\n",
       "    .dataframe tbody tr th {\n",
       "        vertical-align: top;\n",
       "    }\n",
       "\n",
       "    .dataframe thead th {\n",
       "        text-align: right;\n",
       "    }\n",
       "</style>\n",
       "<table border=\"1\" class=\"dataframe\">\n",
       "  <thead>\n",
       "    <tr style=\"text-align: right;\">\n",
       "      <th></th>\n",
       "      <th>title</th>\n",
       "      <th>imdb_title_id</th>\n",
       "      <th>original_title</th>\n",
       "      <th>year</th>\n",
       "      <th>date_published</th>\n",
       "      <th>genre</th>\n",
       "      <th>duration</th>\n",
       "      <th>country</th>\n",
       "      <th>language</th>\n",
       "      <th>director</th>\n",
       "      <th>...</th>\n",
       "      <th>actors</th>\n",
       "      <th>description</th>\n",
       "      <th>avg_vote</th>\n",
       "      <th>votes</th>\n",
       "      <th>budget</th>\n",
       "      <th>usa_gross_income</th>\n",
       "      <th>worlwide_gross_income</th>\n",
       "      <th>metascore</th>\n",
       "      <th>reviews_from_users</th>\n",
       "      <th>reviews_from_critics</th>\n",
       "    </tr>\n",
       "  </thead>\n",
       "  <tbody>\n",
       "    <tr>\n",
       "      <th>0</th>\n",
       "      <td>Miss Jerry</td>\n",
       "      <td>tt0000009</td>\n",
       "      <td>Miss Jerry</td>\n",
       "      <td>1894</td>\n",
       "      <td>1894-10-09</td>\n",
       "      <td>Romance</td>\n",
       "      <td>45</td>\n",
       "      <td>USA</td>\n",
       "      <td>None</td>\n",
       "      <td>Alexander Black</td>\n",
       "      <td>...</td>\n",
       "      <td>Blanche Bayliss, William Courtenay, Chauncey D...</td>\n",
       "      <td>The adventures of a female reporter in the 1890s.</td>\n",
       "      <td>5.9</td>\n",
       "      <td>154</td>\n",
       "      <td>NaN</td>\n",
       "      <td>NaN</td>\n",
       "      <td>NaN</td>\n",
       "      <td>NaN</td>\n",
       "      <td>1.0</td>\n",
       "      <td>2.0</td>\n",
       "    </tr>\n",
       "    <tr>\n",
       "      <th>1</th>\n",
       "      <td>The Story of the Kelly Gang</td>\n",
       "      <td>tt0000574</td>\n",
       "      <td>The Story of the Kelly Gang</td>\n",
       "      <td>1906</td>\n",
       "      <td>1906-12-26</td>\n",
       "      <td>Biography, Crime, Drama</td>\n",
       "      <td>70</td>\n",
       "      <td>Australia</td>\n",
       "      <td>None</td>\n",
       "      <td>Charles Tait</td>\n",
       "      <td>...</td>\n",
       "      <td>Elizabeth Tait, John Tait, Norman Campbell, Be...</td>\n",
       "      <td>True story of notorious Australian outlaw Ned ...</td>\n",
       "      <td>6.1</td>\n",
       "      <td>589</td>\n",
       "      <td>$ 2250</td>\n",
       "      <td>NaN</td>\n",
       "      <td>NaN</td>\n",
       "      <td>NaN</td>\n",
       "      <td>7.0</td>\n",
       "      <td>7.0</td>\n",
       "    </tr>\n",
       "    <tr>\n",
       "      <th>2</th>\n",
       "      <td>Den sorte drøm</td>\n",
       "      <td>tt0001892</td>\n",
       "      <td>Den sorte drøm</td>\n",
       "      <td>1911</td>\n",
       "      <td>1911-08-19</td>\n",
       "      <td>Drama</td>\n",
       "      <td>53</td>\n",
       "      <td>Germany, Denmark</td>\n",
       "      <td>NaN</td>\n",
       "      <td>Urban Gad</td>\n",
       "      <td>...</td>\n",
       "      <td>Asta Nielsen, Valdemar Psilander, Gunnar Helse...</td>\n",
       "      <td>Two men of high rank are both wooing the beaut...</td>\n",
       "      <td>5.8</td>\n",
       "      <td>188</td>\n",
       "      <td>NaN</td>\n",
       "      <td>NaN</td>\n",
       "      <td>NaN</td>\n",
       "      <td>NaN</td>\n",
       "      <td>5.0</td>\n",
       "      <td>2.0</td>\n",
       "    </tr>\n",
       "    <tr>\n",
       "      <th>3</th>\n",
       "      <td>Cleopatra</td>\n",
       "      <td>tt0002101</td>\n",
       "      <td>Cleopatra</td>\n",
       "      <td>1912</td>\n",
       "      <td>1912-11-13</td>\n",
       "      <td>Drama, History</td>\n",
       "      <td>100</td>\n",
       "      <td>USA</td>\n",
       "      <td>English</td>\n",
       "      <td>Charles L. Gaskill</td>\n",
       "      <td>...</td>\n",
       "      <td>Helen Gardner, Pearl Sindelar, Miss Fielding, ...</td>\n",
       "      <td>The fabled queen of Egypt's affair with Roman ...</td>\n",
       "      <td>5.2</td>\n",
       "      <td>446</td>\n",
       "      <td>$ 45000</td>\n",
       "      <td>NaN</td>\n",
       "      <td>NaN</td>\n",
       "      <td>NaN</td>\n",
       "      <td>25.0</td>\n",
       "      <td>3.0</td>\n",
       "    </tr>\n",
       "    <tr>\n",
       "      <th>4</th>\n",
       "      <td>L'Inferno</td>\n",
       "      <td>tt0002130</td>\n",
       "      <td>L'Inferno</td>\n",
       "      <td>1911</td>\n",
       "      <td>1911-03-06</td>\n",
       "      <td>Adventure, Drama, Fantasy</td>\n",
       "      <td>68</td>\n",
       "      <td>Italy</td>\n",
       "      <td>Italian</td>\n",
       "      <td>Francesco Bertolini, Adolfo Padovan</td>\n",
       "      <td>...</td>\n",
       "      <td>Salvatore Papa, Arturo Pirovano, Giuseppe de L...</td>\n",
       "      <td>Loosely adapted from Dante's Divine Comedy and...</td>\n",
       "      <td>7.0</td>\n",
       "      <td>2237</td>\n",
       "      <td>NaN</td>\n",
       "      <td>NaN</td>\n",
       "      <td>NaN</td>\n",
       "      <td>NaN</td>\n",
       "      <td>31.0</td>\n",
       "      <td>14.0</td>\n",
       "    </tr>\n",
       "    <tr>\n",
       "      <th>...</th>\n",
       "      <td>...</td>\n",
       "      <td>...</td>\n",
       "      <td>...</td>\n",
       "      <td>...</td>\n",
       "      <td>...</td>\n",
       "      <td>...</td>\n",
       "      <td>...</td>\n",
       "      <td>...</td>\n",
       "      <td>...</td>\n",
       "      <td>...</td>\n",
       "      <td>...</td>\n",
       "      <td>...</td>\n",
       "      <td>...</td>\n",
       "      <td>...</td>\n",
       "      <td>...</td>\n",
       "      <td>...</td>\n",
       "      <td>...</td>\n",
       "      <td>...</td>\n",
       "      <td>...</td>\n",
       "      <td>...</td>\n",
       "      <td>...</td>\n",
       "    </tr>\n",
       "    <tr>\n",
       "      <th>85850</th>\n",
       "      <td>Le lion</td>\n",
       "      <td>tt9908390</td>\n",
       "      <td>Le lion</td>\n",
       "      <td>2020</td>\n",
       "      <td>2020-01-29</td>\n",
       "      <td>Comedy</td>\n",
       "      <td>95</td>\n",
       "      <td>France, Belgium</td>\n",
       "      <td>French</td>\n",
       "      <td>Ludovic Colbeau-Justin</td>\n",
       "      <td>...</td>\n",
       "      <td>Dany Boon, Philippe Katerine, Anne Serra, Samu...</td>\n",
       "      <td>A psychiatric hospital patient pretends to be ...</td>\n",
       "      <td>5.3</td>\n",
       "      <td>398</td>\n",
       "      <td>NaN</td>\n",
       "      <td>NaN</td>\n",
       "      <td>$ 3507171</td>\n",
       "      <td>NaN</td>\n",
       "      <td>NaN</td>\n",
       "      <td>4.0</td>\n",
       "    </tr>\n",
       "    <tr>\n",
       "      <th>85851</th>\n",
       "      <td>De Beentjes van Sint-Hildegard</td>\n",
       "      <td>tt9911196</td>\n",
       "      <td>De Beentjes van Sint-Hildegard</td>\n",
       "      <td>2020</td>\n",
       "      <td>2020-02-13</td>\n",
       "      <td>Comedy, Drama</td>\n",
       "      <td>103</td>\n",
       "      <td>Netherlands</td>\n",
       "      <td>German, Dutch</td>\n",
       "      <td>Johan Nijenhuis</td>\n",
       "      <td>...</td>\n",
       "      <td>Herman Finkers, Johanna ter Steege, Leonie ter...</td>\n",
       "      <td>A middle-aged veterinary surgeon believes his ...</td>\n",
       "      <td>7.7</td>\n",
       "      <td>724</td>\n",
       "      <td>NaN</td>\n",
       "      <td>NaN</td>\n",
       "      <td>$ 7299062</td>\n",
       "      <td>NaN</td>\n",
       "      <td>6.0</td>\n",
       "      <td>4.0</td>\n",
       "    </tr>\n",
       "    <tr>\n",
       "      <th>85852</th>\n",
       "      <td>Padmavyuhathile Abhimanyu</td>\n",
       "      <td>tt9911774</td>\n",
       "      <td>Padmavyuhathile Abhimanyu</td>\n",
       "      <td>2019</td>\n",
       "      <td>2019-03-08</td>\n",
       "      <td>Drama</td>\n",
       "      <td>130</td>\n",
       "      <td>India</td>\n",
       "      <td>Malayalam</td>\n",
       "      <td>Vineesh Aaradya</td>\n",
       "      <td>...</td>\n",
       "      <td>Anoop Chandran, Indrans, Sona Nair, Simon Brit...</td>\n",
       "      <td>NaN</td>\n",
       "      <td>7.9</td>\n",
       "      <td>265</td>\n",
       "      <td>NaN</td>\n",
       "      <td>NaN</td>\n",
       "      <td>NaN</td>\n",
       "      <td>NaN</td>\n",
       "      <td>NaN</td>\n",
       "      <td>NaN</td>\n",
       "    </tr>\n",
       "    <tr>\n",
       "      <th>85853</th>\n",
       "      <td>Sokagin Çocuklari</td>\n",
       "      <td>tt9914286</td>\n",
       "      <td>Sokagin Çocuklari</td>\n",
       "      <td>2019</td>\n",
       "      <td>2019-03-15</td>\n",
       "      <td>Drama, Family</td>\n",
       "      <td>98</td>\n",
       "      <td>Turkey</td>\n",
       "      <td>Turkish</td>\n",
       "      <td>Ahmet Faik Akinci</td>\n",
       "      <td>...</td>\n",
       "      <td>Ahmet Faik Akinci, Belma Mamati, Metin Keçeci,...</td>\n",
       "      <td>NaN</td>\n",
       "      <td>6.4</td>\n",
       "      <td>194</td>\n",
       "      <td>NaN</td>\n",
       "      <td>NaN</td>\n",
       "      <td>$ 2833</td>\n",
       "      <td>NaN</td>\n",
       "      <td>NaN</td>\n",
       "      <td>NaN</td>\n",
       "    </tr>\n",
       "    <tr>\n",
       "      <th>85854</th>\n",
       "      <td>La vida sense la Sara Amat</td>\n",
       "      <td>tt9914942</td>\n",
       "      <td>La vida sense la Sara Amat</td>\n",
       "      <td>2019</td>\n",
       "      <td>2020-02-05</td>\n",
       "      <td>Drama</td>\n",
       "      <td>74</td>\n",
       "      <td>Spain</td>\n",
       "      <td>Catalan</td>\n",
       "      <td>Laura Jou</td>\n",
       "      <td>...</td>\n",
       "      <td>Maria Morera Colomer, Biel Rossell Pelfort, Is...</td>\n",
       "      <td>Pep, a 13-year-old boy, is in love with a girl...</td>\n",
       "      <td>6.7</td>\n",
       "      <td>102</td>\n",
       "      <td>NaN</td>\n",
       "      <td>NaN</td>\n",
       "      <td>$ 59794</td>\n",
       "      <td>NaN</td>\n",
       "      <td>NaN</td>\n",
       "      <td>2.0</td>\n",
       "    </tr>\n",
       "  </tbody>\n",
       "</table>\n",
       "<p>85855 rows × 22 columns</p>\n",
       "</div>"
      ],
      "text/plain": [
       "                                title imdb_title_id  \\\n",
       "0                          Miss Jerry     tt0000009   \n",
       "1         The Story of the Kelly Gang     tt0000574   \n",
       "2                      Den sorte drøm     tt0001892   \n",
       "3                           Cleopatra     tt0002101   \n",
       "4                           L'Inferno     tt0002130   \n",
       "...                               ...           ...   \n",
       "85850                         Le lion     tt9908390   \n",
       "85851  De Beentjes van Sint-Hildegard     tt9911196   \n",
       "85852       Padmavyuhathile Abhimanyu     tt9911774   \n",
       "85853               Sokagin Çocuklari     tt9914286   \n",
       "85854      La vida sense la Sara Amat     tt9914942   \n",
       "\n",
       "                       original_title  year date_published  \\\n",
       "0                          Miss Jerry  1894     1894-10-09   \n",
       "1         The Story of the Kelly Gang  1906     1906-12-26   \n",
       "2                      Den sorte drøm  1911     1911-08-19   \n",
       "3                           Cleopatra  1912     1912-11-13   \n",
       "4                           L'Inferno  1911     1911-03-06   \n",
       "...                               ...   ...            ...   \n",
       "85850                         Le lion  2020     2020-01-29   \n",
       "85851  De Beentjes van Sint-Hildegard  2020     2020-02-13   \n",
       "85852       Padmavyuhathile Abhimanyu  2019     2019-03-08   \n",
       "85853               Sokagin Çocuklari  2019     2019-03-15   \n",
       "85854      La vida sense la Sara Amat  2019     2020-02-05   \n",
       "\n",
       "                           genre  duration           country       language  \\\n",
       "0                        Romance        45               USA           None   \n",
       "1        Biography, Crime, Drama        70         Australia           None   \n",
       "2                          Drama        53  Germany, Denmark            NaN   \n",
       "3                 Drama, History       100               USA        English   \n",
       "4      Adventure, Drama, Fantasy        68             Italy        Italian   \n",
       "...                          ...       ...               ...            ...   \n",
       "85850                     Comedy        95   France, Belgium         French   \n",
       "85851              Comedy, Drama       103       Netherlands  German, Dutch   \n",
       "85852                      Drama       130             India      Malayalam   \n",
       "85853              Drama, Family        98            Turkey        Turkish   \n",
       "85854                      Drama        74             Spain        Catalan   \n",
       "\n",
       "                                  director  ...  \\\n",
       "0                          Alexander Black  ...   \n",
       "1                             Charles Tait  ...   \n",
       "2                                Urban Gad  ...   \n",
       "3                       Charles L. Gaskill  ...   \n",
       "4      Francesco Bertolini, Adolfo Padovan  ...   \n",
       "...                                    ...  ...   \n",
       "85850               Ludovic Colbeau-Justin  ...   \n",
       "85851                      Johan Nijenhuis  ...   \n",
       "85852                      Vineesh Aaradya  ...   \n",
       "85853                    Ahmet Faik Akinci  ...   \n",
       "85854                            Laura Jou  ...   \n",
       "\n",
       "                                                  actors  \\\n",
       "0      Blanche Bayliss, William Courtenay, Chauncey D...   \n",
       "1      Elizabeth Tait, John Tait, Norman Campbell, Be...   \n",
       "2      Asta Nielsen, Valdemar Psilander, Gunnar Helse...   \n",
       "3      Helen Gardner, Pearl Sindelar, Miss Fielding, ...   \n",
       "4      Salvatore Papa, Arturo Pirovano, Giuseppe de L...   \n",
       "...                                                  ...   \n",
       "85850  Dany Boon, Philippe Katerine, Anne Serra, Samu...   \n",
       "85851  Herman Finkers, Johanna ter Steege, Leonie ter...   \n",
       "85852  Anoop Chandran, Indrans, Sona Nair, Simon Brit...   \n",
       "85853  Ahmet Faik Akinci, Belma Mamati, Metin Keçeci,...   \n",
       "85854  Maria Morera Colomer, Biel Rossell Pelfort, Is...   \n",
       "\n",
       "                                             description avg_vote votes  \\\n",
       "0      The adventures of a female reporter in the 1890s.      5.9   154   \n",
       "1      True story of notorious Australian outlaw Ned ...      6.1   589   \n",
       "2      Two men of high rank are both wooing the beaut...      5.8   188   \n",
       "3      The fabled queen of Egypt's affair with Roman ...      5.2   446   \n",
       "4      Loosely adapted from Dante's Divine Comedy and...      7.0  2237   \n",
       "...                                                  ...      ...   ...   \n",
       "85850  A psychiatric hospital patient pretends to be ...      5.3   398   \n",
       "85851  A middle-aged veterinary surgeon believes his ...      7.7   724   \n",
       "85852                                                NaN      7.9   265   \n",
       "85853                                                NaN      6.4   194   \n",
       "85854  Pep, a 13-year-old boy, is in love with a girl...      6.7   102   \n",
       "\n",
       "        budget  usa_gross_income worlwide_gross_income metascore  \\\n",
       "0          NaN               NaN                   NaN       NaN   \n",
       "1       $ 2250               NaN                   NaN       NaN   \n",
       "2          NaN               NaN                   NaN       NaN   \n",
       "3      $ 45000               NaN                   NaN       NaN   \n",
       "4          NaN               NaN                   NaN       NaN   \n",
       "...        ...               ...                   ...       ...   \n",
       "85850      NaN               NaN             $ 3507171       NaN   \n",
       "85851      NaN               NaN             $ 7299062       NaN   \n",
       "85852      NaN               NaN                   NaN       NaN   \n",
       "85853      NaN               NaN                $ 2833       NaN   \n",
       "85854      NaN               NaN               $ 59794       NaN   \n",
       "\n",
       "      reviews_from_users  reviews_from_critics  \n",
       "0                    1.0                   2.0  \n",
       "1                    7.0                   7.0  \n",
       "2                    5.0                   2.0  \n",
       "3                   25.0                   3.0  \n",
       "4                   31.0                  14.0  \n",
       "...                  ...                   ...  \n",
       "85850                NaN                   4.0  \n",
       "85851                6.0                   4.0  \n",
       "85852                NaN                   NaN  \n",
       "85853                NaN                   NaN  \n",
       "85854                NaN                   2.0  \n",
       "\n",
       "[85855 rows x 22 columns]"
      ]
     },
     "execution_count": 83,
     "metadata": {},
     "output_type": "execute_result"
    }
   ],
   "source": [
    "movie.reset_index()"
   ]
  },
  {
   "cell_type": "code",
   "execution_count": 85,
   "metadata": {},
   "outputs": [],
   "source": [
    "index=movie.index"
   ]
  },
  {
   "cell_type": "code",
   "execution_count": 86,
   "metadata": {},
   "outputs": [],
   "source": [
    "columns = movie.columns"
   ]
  },
  {
   "cell_type": "code",
   "execution_count": 87,
   "metadata": {},
   "outputs": [],
   "source": [
    "columns = columns.to_list()"
   ]
  },
  {
   "cell_type": "code",
   "execution_count": 88,
   "metadata": {},
   "outputs": [
    {
     "data": {
      "text/plain": [
       "['imdb_title_id',\n",
       " 'original_title',\n",
       " 'year',\n",
       " 'date_published',\n",
       " 'genre',\n",
       " 'duration',\n",
       " 'country',\n",
       " 'language',\n",
       " 'director',\n",
       " 'writer',\n",
       " 'production_company',\n",
       " 'actors',\n",
       " 'description',\n",
       " 'avg_vote',\n",
       " 'votes',\n",
       " 'budget',\n",
       " 'usa_gross_income',\n",
       " 'worlwide_gross_income',\n",
       " 'metascore',\n",
       " 'reviews_from_users',\n",
       " 'reviews_from_critics']"
      ]
     },
     "execution_count": 88,
     "metadata": {},
     "output_type": "execute_result"
    }
   ],
   "source": [
    "columns"
   ]
  },
  {
   "cell_type": "code",
   "execution_count": 89,
   "metadata": {},
   "outputs": [],
   "source": [
    "column_names = dict()"
   ]
  },
  {
   "cell_type": "code",
   "execution_count": 90,
   "metadata": {},
   "outputs": [
    {
     "data": {
      "text/plain": [
       "{}"
      ]
     },
     "execution_count": 90,
     "metadata": {},
     "output_type": "execute_result"
    }
   ],
   "source": [
    "column_names"
   ]
  },
  {
   "cell_type": "code",
   "execution_count": 96,
   "metadata": {},
   "outputs": [],
   "source": [
    "for i in columns:\n",
    "    \n",
    "    column_names[i] = i.upper()"
   ]
  },
  {
   "cell_type": "code",
   "execution_count": 97,
   "metadata": {},
   "outputs": [
    {
     "data": {
      "text/plain": [
       "{'imdb_title_id': 'IMDB_TITLE_ID',\n",
       " 'original_title': 'ORIGINAL_TITLE',\n",
       " 'year': 'YEAR',\n",
       " 'date_published': 'DATE_PUBLISHED',\n",
       " 'genre': 'GENRE',\n",
       " 'duration': 'DURATION',\n",
       " 'country': 'COUNTRY',\n",
       " 'language': 'LANGUAGE',\n",
       " 'director': 'DIRECTOR',\n",
       " 'writer': 'WRITER',\n",
       " 'production_company': 'PRODUCTION_COMPANY',\n",
       " 'actors': 'ACTORS',\n",
       " 'description': 'DESCRIPTION',\n",
       " 'avg_vote': 'AVG_VOTE',\n",
       " 'votes': 'VOTES',\n",
       " 'budget': 'BUDGET',\n",
       " 'usa_gross_income': 'USA_GROSS_INCOME',\n",
       " 'worlwide_gross_income': 'WORLWIDE_GROSS_INCOME',\n",
       " 'metascore': 'METASCORE',\n",
       " 'reviews_from_users': 'REVIEWS_FROM_USERS',\n",
       " 'reviews_from_critics': 'REVIEWS_FROM_CRITICS'}"
      ]
     },
     "execution_count": 97,
     "metadata": {},
     "output_type": "execute_result"
    }
   ],
   "source": [
    "column_names"
   ]
  },
  {
   "cell_type": "code",
   "execution_count": 98,
   "metadata": {},
   "outputs": [],
   "source": [
    "movie.columns = column_names"
   ]
  },
  {
   "cell_type": "code",
   "execution_count": 102,
   "metadata": {},
   "outputs": [
    {
     "data": {
      "text/html": [
       "<div>\n",
       "<style scoped>\n",
       "    .dataframe tbody tr th:only-of-type {\n",
       "        vertical-align: middle;\n",
       "    }\n",
       "\n",
       "    .dataframe tbody tr th {\n",
       "        vertical-align: top;\n",
       "    }\n",
       "\n",
       "    .dataframe thead th {\n",
       "        text-align: right;\n",
       "    }\n",
       "</style>\n",
       "<table border=\"1\" class=\"dataframe\">\n",
       "  <thead>\n",
       "    <tr style=\"text-align: right;\">\n",
       "      <th></th>\n",
       "      <th>IMDB_TITLE_ID</th>\n",
       "      <th>ORIGINAL_TITLE</th>\n",
       "      <th>YEAR</th>\n",
       "      <th>DATE_PUBLISHED</th>\n",
       "      <th>GENRE</th>\n",
       "      <th>DURATION</th>\n",
       "      <th>COUNTRY</th>\n",
       "      <th>LANGUAGE</th>\n",
       "      <th>DIRECTOR</th>\n",
       "      <th>WRITER</th>\n",
       "      <th>...</th>\n",
       "      <th>ACTORS</th>\n",
       "      <th>DESCRIPTION</th>\n",
       "      <th>AVG_VOTE</th>\n",
       "      <th>VOTES</th>\n",
       "      <th>BUDGET</th>\n",
       "      <th>USA_GROSS_INCOME</th>\n",
       "      <th>WORLWIDE_GROSS_INCOME</th>\n",
       "      <th>METASCORE</th>\n",
       "      <th>REVIEWS_FROM_USERS</th>\n",
       "      <th>REVIEWS_FROM_CRITICS</th>\n",
       "    </tr>\n",
       "    <tr>\n",
       "      <th>title</th>\n",
       "      <th></th>\n",
       "      <th></th>\n",
       "      <th></th>\n",
       "      <th></th>\n",
       "      <th></th>\n",
       "      <th></th>\n",
       "      <th></th>\n",
       "      <th></th>\n",
       "      <th></th>\n",
       "      <th></th>\n",
       "      <th></th>\n",
       "      <th></th>\n",
       "      <th></th>\n",
       "      <th></th>\n",
       "      <th></th>\n",
       "      <th></th>\n",
       "      <th></th>\n",
       "      <th></th>\n",
       "      <th></th>\n",
       "      <th></th>\n",
       "      <th></th>\n",
       "    </tr>\n",
       "  </thead>\n",
       "  <tbody>\n",
       "    <tr>\n",
       "      <th>Miss Jerry</th>\n",
       "      <td>tt0000009</td>\n",
       "      <td>Miss Jerry</td>\n",
       "      <td>1894</td>\n",
       "      <td>1894-10-09</td>\n",
       "      <td>Romance</td>\n",
       "      <td>45</td>\n",
       "      <td>USA</td>\n",
       "      <td>None</td>\n",
       "      <td>Alexander Black</td>\n",
       "      <td>Alexander Black</td>\n",
       "      <td>...</td>\n",
       "      <td>Blanche Bayliss, William Courtenay, Chauncey D...</td>\n",
       "      <td>The adventures of a female reporter in the 1890s.</td>\n",
       "      <td>5.9</td>\n",
       "      <td>154</td>\n",
       "      <td>NaN</td>\n",
       "      <td>NaN</td>\n",
       "      <td>NaN</td>\n",
       "      <td>NaN</td>\n",
       "      <td>1.0</td>\n",
       "      <td>2.0</td>\n",
       "    </tr>\n",
       "    <tr>\n",
       "      <th>The Story of the Kelly Gang</th>\n",
       "      <td>tt0000574</td>\n",
       "      <td>The Story of the Kelly Gang</td>\n",
       "      <td>1906</td>\n",
       "      <td>1906-12-26</td>\n",
       "      <td>Biography, Crime, Drama</td>\n",
       "      <td>70</td>\n",
       "      <td>Australia</td>\n",
       "      <td>None</td>\n",
       "      <td>Charles Tait</td>\n",
       "      <td>Charles Tait</td>\n",
       "      <td>...</td>\n",
       "      <td>Elizabeth Tait, John Tait, Norman Campbell, Be...</td>\n",
       "      <td>True story of notorious Australian outlaw Ned ...</td>\n",
       "      <td>6.1</td>\n",
       "      <td>589</td>\n",
       "      <td>$ 2250</td>\n",
       "      <td>NaN</td>\n",
       "      <td>NaN</td>\n",
       "      <td>NaN</td>\n",
       "      <td>7.0</td>\n",
       "      <td>7.0</td>\n",
       "    </tr>\n",
       "    <tr>\n",
       "      <th>Den sorte drøm</th>\n",
       "      <td>tt0001892</td>\n",
       "      <td>Den sorte drøm</td>\n",
       "      <td>1911</td>\n",
       "      <td>1911-08-19</td>\n",
       "      <td>Drama</td>\n",
       "      <td>53</td>\n",
       "      <td>Germany, Denmark</td>\n",
       "      <td>NaN</td>\n",
       "      <td>Urban Gad</td>\n",
       "      <td>Urban Gad, Gebhard Schätzler-Perasini</td>\n",
       "      <td>...</td>\n",
       "      <td>Asta Nielsen, Valdemar Psilander, Gunnar Helse...</td>\n",
       "      <td>Two men of high rank are both wooing the beaut...</td>\n",
       "      <td>5.8</td>\n",
       "      <td>188</td>\n",
       "      <td>NaN</td>\n",
       "      <td>NaN</td>\n",
       "      <td>NaN</td>\n",
       "      <td>NaN</td>\n",
       "      <td>5.0</td>\n",
       "      <td>2.0</td>\n",
       "    </tr>\n",
       "    <tr>\n",
       "      <th>Cleopatra</th>\n",
       "      <td>tt0002101</td>\n",
       "      <td>Cleopatra</td>\n",
       "      <td>1912</td>\n",
       "      <td>1912-11-13</td>\n",
       "      <td>Drama, History</td>\n",
       "      <td>100</td>\n",
       "      <td>USA</td>\n",
       "      <td>English</td>\n",
       "      <td>Charles L. Gaskill</td>\n",
       "      <td>Victorien Sardou</td>\n",
       "      <td>...</td>\n",
       "      <td>Helen Gardner, Pearl Sindelar, Miss Fielding, ...</td>\n",
       "      <td>The fabled queen of Egypt's affair with Roman ...</td>\n",
       "      <td>5.2</td>\n",
       "      <td>446</td>\n",
       "      <td>$ 45000</td>\n",
       "      <td>NaN</td>\n",
       "      <td>NaN</td>\n",
       "      <td>NaN</td>\n",
       "      <td>25.0</td>\n",
       "      <td>3.0</td>\n",
       "    </tr>\n",
       "    <tr>\n",
       "      <th>L'Inferno</th>\n",
       "      <td>tt0002130</td>\n",
       "      <td>L'Inferno</td>\n",
       "      <td>1911</td>\n",
       "      <td>1911-03-06</td>\n",
       "      <td>Adventure, Drama, Fantasy</td>\n",
       "      <td>68</td>\n",
       "      <td>Italy</td>\n",
       "      <td>Italian</td>\n",
       "      <td>Francesco Bertolini, Adolfo Padovan</td>\n",
       "      <td>Dante Alighieri</td>\n",
       "      <td>...</td>\n",
       "      <td>Salvatore Papa, Arturo Pirovano, Giuseppe de L...</td>\n",
       "      <td>Loosely adapted from Dante's Divine Comedy and...</td>\n",
       "      <td>7.0</td>\n",
       "      <td>2237</td>\n",
       "      <td>NaN</td>\n",
       "      <td>NaN</td>\n",
       "      <td>NaN</td>\n",
       "      <td>NaN</td>\n",
       "      <td>31.0</td>\n",
       "      <td>14.0</td>\n",
       "    </tr>\n",
       "    <tr>\n",
       "      <th>...</th>\n",
       "      <td>...</td>\n",
       "      <td>...</td>\n",
       "      <td>...</td>\n",
       "      <td>...</td>\n",
       "      <td>...</td>\n",
       "      <td>...</td>\n",
       "      <td>...</td>\n",
       "      <td>...</td>\n",
       "      <td>...</td>\n",
       "      <td>...</td>\n",
       "      <td>...</td>\n",
       "      <td>...</td>\n",
       "      <td>...</td>\n",
       "      <td>...</td>\n",
       "      <td>...</td>\n",
       "      <td>...</td>\n",
       "      <td>...</td>\n",
       "      <td>...</td>\n",
       "      <td>...</td>\n",
       "      <td>...</td>\n",
       "      <td>...</td>\n",
       "    </tr>\n",
       "    <tr>\n",
       "      <th>Le lion</th>\n",
       "      <td>tt9908390</td>\n",
       "      <td>Le lion</td>\n",
       "      <td>2020</td>\n",
       "      <td>2020-01-29</td>\n",
       "      <td>Comedy</td>\n",
       "      <td>95</td>\n",
       "      <td>France, Belgium</td>\n",
       "      <td>French</td>\n",
       "      <td>Ludovic Colbeau-Justin</td>\n",
       "      <td>Alexandre Coquelle, Matthieu Le Naour</td>\n",
       "      <td>...</td>\n",
       "      <td>Dany Boon, Philippe Katerine, Anne Serra, Samu...</td>\n",
       "      <td>A psychiatric hospital patient pretends to be ...</td>\n",
       "      <td>5.3</td>\n",
       "      <td>398</td>\n",
       "      <td>NaN</td>\n",
       "      <td>NaN</td>\n",
       "      <td>$ 3507171</td>\n",
       "      <td>NaN</td>\n",
       "      <td>NaN</td>\n",
       "      <td>4.0</td>\n",
       "    </tr>\n",
       "    <tr>\n",
       "      <th>De Beentjes van Sint-Hildegard</th>\n",
       "      <td>tt9911196</td>\n",
       "      <td>De Beentjes van Sint-Hildegard</td>\n",
       "      <td>2020</td>\n",
       "      <td>2020-02-13</td>\n",
       "      <td>Comedy, Drama</td>\n",
       "      <td>103</td>\n",
       "      <td>Netherlands</td>\n",
       "      <td>German, Dutch</td>\n",
       "      <td>Johan Nijenhuis</td>\n",
       "      <td>Radek Bajgar, Herman Finkers</td>\n",
       "      <td>...</td>\n",
       "      <td>Herman Finkers, Johanna ter Steege, Leonie ter...</td>\n",
       "      <td>A middle-aged veterinary surgeon believes his ...</td>\n",
       "      <td>7.7</td>\n",
       "      <td>724</td>\n",
       "      <td>NaN</td>\n",
       "      <td>NaN</td>\n",
       "      <td>$ 7299062</td>\n",
       "      <td>NaN</td>\n",
       "      <td>6.0</td>\n",
       "      <td>4.0</td>\n",
       "    </tr>\n",
       "    <tr>\n",
       "      <th>Padmavyuhathile Abhimanyu</th>\n",
       "      <td>tt9911774</td>\n",
       "      <td>Padmavyuhathile Abhimanyu</td>\n",
       "      <td>2019</td>\n",
       "      <td>2019-03-08</td>\n",
       "      <td>Drama</td>\n",
       "      <td>130</td>\n",
       "      <td>India</td>\n",
       "      <td>Malayalam</td>\n",
       "      <td>Vineesh Aaradya</td>\n",
       "      <td>Vineesh Aaradya, Vineesh Aaradya</td>\n",
       "      <td>...</td>\n",
       "      <td>Anoop Chandran, Indrans, Sona Nair, Simon Brit...</td>\n",
       "      <td>NaN</td>\n",
       "      <td>7.9</td>\n",
       "      <td>265</td>\n",
       "      <td>NaN</td>\n",
       "      <td>NaN</td>\n",
       "      <td>NaN</td>\n",
       "      <td>NaN</td>\n",
       "      <td>NaN</td>\n",
       "      <td>NaN</td>\n",
       "    </tr>\n",
       "    <tr>\n",
       "      <th>Sokagin Çocuklari</th>\n",
       "      <td>tt9914286</td>\n",
       "      <td>Sokagin Çocuklari</td>\n",
       "      <td>2019</td>\n",
       "      <td>2019-03-15</td>\n",
       "      <td>Drama, Family</td>\n",
       "      <td>98</td>\n",
       "      <td>Turkey</td>\n",
       "      <td>Turkish</td>\n",
       "      <td>Ahmet Faik Akinci</td>\n",
       "      <td>Ahmet Faik Akinci, Kasim Uçkan</td>\n",
       "      <td>...</td>\n",
       "      <td>Ahmet Faik Akinci, Belma Mamati, Metin Keçeci,...</td>\n",
       "      <td>NaN</td>\n",
       "      <td>6.4</td>\n",
       "      <td>194</td>\n",
       "      <td>NaN</td>\n",
       "      <td>NaN</td>\n",
       "      <td>$ 2833</td>\n",
       "      <td>NaN</td>\n",
       "      <td>NaN</td>\n",
       "      <td>NaN</td>\n",
       "    </tr>\n",
       "    <tr>\n",
       "      <th>La vida sense la Sara Amat</th>\n",
       "      <td>tt9914942</td>\n",
       "      <td>La vida sense la Sara Amat</td>\n",
       "      <td>2019</td>\n",
       "      <td>2020-02-05</td>\n",
       "      <td>Drama</td>\n",
       "      <td>74</td>\n",
       "      <td>Spain</td>\n",
       "      <td>Catalan</td>\n",
       "      <td>Laura Jou</td>\n",
       "      <td>Coral Cruz, Pep Puig</td>\n",
       "      <td>...</td>\n",
       "      <td>Maria Morera Colomer, Biel Rossell Pelfort, Is...</td>\n",
       "      <td>Pep, a 13-year-old boy, is in love with a girl...</td>\n",
       "      <td>6.7</td>\n",
       "      <td>102</td>\n",
       "      <td>NaN</td>\n",
       "      <td>NaN</td>\n",
       "      <td>$ 59794</td>\n",
       "      <td>NaN</td>\n",
       "      <td>NaN</td>\n",
       "      <td>2.0</td>\n",
       "    </tr>\n",
       "  </tbody>\n",
       "</table>\n",
       "<p>85855 rows × 21 columns</p>\n",
       "</div>"
      ],
      "text/plain": [
       "                               IMDB_TITLE_ID                  ORIGINAL_TITLE  \\\n",
       "title                                                                          \n",
       "Miss Jerry                         tt0000009                      Miss Jerry   \n",
       "The Story of the Kelly Gang        tt0000574     The Story of the Kelly Gang   \n",
       "Den sorte drøm                     tt0001892                  Den sorte drøm   \n",
       "Cleopatra                          tt0002101                       Cleopatra   \n",
       "L'Inferno                          tt0002130                       L'Inferno   \n",
       "...                                      ...                             ...   \n",
       "Le lion                            tt9908390                         Le lion   \n",
       "De Beentjes van Sint-Hildegard     tt9911196  De Beentjes van Sint-Hildegard   \n",
       "Padmavyuhathile Abhimanyu          tt9911774       Padmavyuhathile Abhimanyu   \n",
       "Sokagin Çocuklari                  tt9914286               Sokagin Çocuklari   \n",
       "La vida sense la Sara Amat         tt9914942      La vida sense la Sara Amat   \n",
       "\n",
       "                                YEAR DATE_PUBLISHED  \\\n",
       "title                                                 \n",
       "Miss Jerry                      1894     1894-10-09   \n",
       "The Story of the Kelly Gang     1906     1906-12-26   \n",
       "Den sorte drøm                  1911     1911-08-19   \n",
       "Cleopatra                       1912     1912-11-13   \n",
       "L'Inferno                       1911     1911-03-06   \n",
       "...                              ...            ...   \n",
       "Le lion                         2020     2020-01-29   \n",
       "De Beentjes van Sint-Hildegard  2020     2020-02-13   \n",
       "Padmavyuhathile Abhimanyu       2019     2019-03-08   \n",
       "Sokagin Çocuklari               2019     2019-03-15   \n",
       "La vida sense la Sara Amat      2019     2020-02-05   \n",
       "\n",
       "                                                    GENRE  DURATION  \\\n",
       "title                                                                 \n",
       "Miss Jerry                                        Romance        45   \n",
       "The Story of the Kelly Gang       Biography, Crime, Drama        70   \n",
       "Den sorte drøm                                      Drama        53   \n",
       "Cleopatra                                  Drama, History       100   \n",
       "L'Inferno                       Adventure, Drama, Fantasy        68   \n",
       "...                                                   ...       ...   \n",
       "Le lion                                            Comedy        95   \n",
       "De Beentjes van Sint-Hildegard              Comedy, Drama       103   \n",
       "Padmavyuhathile Abhimanyu                           Drama       130   \n",
       "Sokagin Çocuklari                           Drama, Family        98   \n",
       "La vida sense la Sara Amat                          Drama        74   \n",
       "\n",
       "                                         COUNTRY       LANGUAGE  \\\n",
       "title                                                             \n",
       "Miss Jerry                                   USA           None   \n",
       "The Story of the Kelly Gang            Australia           None   \n",
       "Den sorte drøm                  Germany, Denmark            NaN   \n",
       "Cleopatra                                    USA        English   \n",
       "L'Inferno                                  Italy        Italian   \n",
       "...                                          ...            ...   \n",
       "Le lion                          France, Belgium         French   \n",
       "De Beentjes van Sint-Hildegard       Netherlands  German, Dutch   \n",
       "Padmavyuhathile Abhimanyu                  India      Malayalam   \n",
       "Sokagin Çocuklari                         Turkey        Turkish   \n",
       "La vida sense la Sara Amat                 Spain        Catalan   \n",
       "\n",
       "                                                           DIRECTOR  \\\n",
       "title                                                                 \n",
       "Miss Jerry                                          Alexander Black   \n",
       "The Story of the Kelly Gang                            Charles Tait   \n",
       "Den sorte drøm                                            Urban Gad   \n",
       "Cleopatra                                        Charles L. Gaskill   \n",
       "L'Inferno                       Francesco Bertolini, Adolfo Padovan   \n",
       "...                                                             ...   \n",
       "Le lion                                      Ludovic Colbeau-Justin   \n",
       "De Beentjes van Sint-Hildegard                      Johan Nijenhuis   \n",
       "Padmavyuhathile Abhimanyu                           Vineesh Aaradya   \n",
       "Sokagin Çocuklari                                 Ahmet Faik Akinci   \n",
       "La vida sense la Sara Amat                                Laura Jou   \n",
       "\n",
       "                                                               WRITER  ...  \\\n",
       "title                                                                  ...   \n",
       "Miss Jerry                                            Alexander Black  ...   \n",
       "The Story of the Kelly Gang                              Charles Tait  ...   \n",
       "Den sorte drøm                  Urban Gad, Gebhard Schätzler-Perasini  ...   \n",
       "Cleopatra                                            Victorien Sardou  ...   \n",
       "L'Inferno                                             Dante Alighieri  ...   \n",
       "...                                                               ...  ...   \n",
       "Le lion                         Alexandre Coquelle, Matthieu Le Naour  ...   \n",
       "De Beentjes van Sint-Hildegard           Radek Bajgar, Herman Finkers  ...   \n",
       "Padmavyuhathile Abhimanyu            Vineesh Aaradya, Vineesh Aaradya  ...   \n",
       "Sokagin Çocuklari                      Ahmet Faik Akinci, Kasim Uçkan  ...   \n",
       "La vida sense la Sara Amat                       Coral Cruz, Pep Puig  ...   \n",
       "\n",
       "                                                                           ACTORS  \\\n",
       "title                                                                               \n",
       "Miss Jerry                      Blanche Bayliss, William Courtenay, Chauncey D...   \n",
       "The Story of the Kelly Gang     Elizabeth Tait, John Tait, Norman Campbell, Be...   \n",
       "Den sorte drøm                  Asta Nielsen, Valdemar Psilander, Gunnar Helse...   \n",
       "Cleopatra                       Helen Gardner, Pearl Sindelar, Miss Fielding, ...   \n",
       "L'Inferno                       Salvatore Papa, Arturo Pirovano, Giuseppe de L...   \n",
       "...                                                                           ...   \n",
       "Le lion                         Dany Boon, Philippe Katerine, Anne Serra, Samu...   \n",
       "De Beentjes van Sint-Hildegard  Herman Finkers, Johanna ter Steege, Leonie ter...   \n",
       "Padmavyuhathile Abhimanyu       Anoop Chandran, Indrans, Sona Nair, Simon Brit...   \n",
       "Sokagin Çocuklari               Ahmet Faik Akinci, Belma Mamati, Metin Keçeci,...   \n",
       "La vida sense la Sara Amat      Maria Morera Colomer, Biel Rossell Pelfort, Is...   \n",
       "\n",
       "                                                                      DESCRIPTION  \\\n",
       "title                                                                               \n",
       "Miss Jerry                      The adventures of a female reporter in the 1890s.   \n",
       "The Story of the Kelly Gang     True story of notorious Australian outlaw Ned ...   \n",
       "Den sorte drøm                  Two men of high rank are both wooing the beaut...   \n",
       "Cleopatra                       The fabled queen of Egypt's affair with Roman ...   \n",
       "L'Inferno                       Loosely adapted from Dante's Divine Comedy and...   \n",
       "...                                                                           ...   \n",
       "Le lion                         A psychiatric hospital patient pretends to be ...   \n",
       "De Beentjes van Sint-Hildegard  A middle-aged veterinary surgeon believes his ...   \n",
       "Padmavyuhathile Abhimanyu                                                     NaN   \n",
       "Sokagin Çocuklari                                                             NaN   \n",
       "La vida sense la Sara Amat      Pep, a 13-year-old boy, is in love with a girl...   \n",
       "\n",
       "                               AVG_VOTE  VOTES   BUDGET USA_GROSS_INCOME  \\\n",
       "title                                                                      \n",
       "Miss Jerry                          5.9    154      NaN              NaN   \n",
       "The Story of the Kelly Gang         6.1    589   $ 2250              NaN   \n",
       "Den sorte drøm                      5.8    188      NaN              NaN   \n",
       "Cleopatra                           5.2    446  $ 45000              NaN   \n",
       "L'Inferno                           7.0   2237      NaN              NaN   \n",
       "...                                 ...    ...      ...              ...   \n",
       "Le lion                             5.3    398      NaN              NaN   \n",
       "De Beentjes van Sint-Hildegard      7.7    724      NaN              NaN   \n",
       "Padmavyuhathile Abhimanyu           7.9    265      NaN              NaN   \n",
       "Sokagin Çocuklari                   6.4    194      NaN              NaN   \n",
       "La vida sense la Sara Amat          6.7    102      NaN              NaN   \n",
       "\n",
       "                               WORLWIDE_GROSS_INCOME METASCORE  \\\n",
       "title                                                            \n",
       "Miss Jerry                                       NaN       NaN   \n",
       "The Story of the Kelly Gang                      NaN       NaN   \n",
       "Den sorte drøm                                   NaN       NaN   \n",
       "Cleopatra                                        NaN       NaN   \n",
       "L'Inferno                                        NaN       NaN   \n",
       "...                                              ...       ...   \n",
       "Le lion                                    $ 3507171       NaN   \n",
       "De Beentjes van Sint-Hildegard             $ 7299062       NaN   \n",
       "Padmavyuhathile Abhimanyu                        NaN       NaN   \n",
       "Sokagin Çocuklari                             $ 2833       NaN   \n",
       "La vida sense la Sara Amat                   $ 59794       NaN   \n",
       "\n",
       "                                REVIEWS_FROM_USERS  REVIEWS_FROM_CRITICS  \n",
       "title                                                                     \n",
       "Miss Jerry                                     1.0                   2.0  \n",
       "The Story of the Kelly Gang                    7.0                   7.0  \n",
       "Den sorte drøm                                 5.0                   2.0  \n",
       "Cleopatra                                     25.0                   3.0  \n",
       "L'Inferno                                     31.0                  14.0  \n",
       "...                                            ...                   ...  \n",
       "Le lion                                        NaN                   4.0  \n",
       "De Beentjes van Sint-Hildegard                 6.0                   4.0  \n",
       "Padmavyuhathile Abhimanyu                      NaN                   NaN  \n",
       "Sokagin Çocuklari                              NaN                   NaN  \n",
       "La vida sense la Sara Amat                     NaN                   2.0  \n",
       "\n",
       "[85855 rows x 21 columns]"
      ]
     },
     "execution_count": 102,
     "metadata": {},
     "output_type": "execute_result"
    }
   ],
   "source": [
    "movie.rename(columns=column_names)"
   ]
  },
  {
   "cell_type": "code",
   "execution_count": null,
   "metadata": {},
   "outputs": [],
   "source": []
  }
 ],
 "metadata": {
  "kernelspec": {
   "display_name": "Python 3",
   "language": "python",
   "name": "python3"
  },
  "language_info": {
   "codemirror_mode": {
    "name": "ipython",
    "version": 3
   },
   "file_extension": ".py",
   "mimetype": "text/x-python",
   "name": "python",
   "nbconvert_exporter": "python",
   "pygments_lexer": "ipython3",
   "version": "3.8.3"
  }
 },
 "nbformat": 4,
 "nbformat_minor": 4
}
