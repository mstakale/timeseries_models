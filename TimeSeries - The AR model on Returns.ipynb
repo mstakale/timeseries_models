{
 "cells": [
  {
   "cell_type": "code",
   "execution_count": 10,
   "metadata": {},
   "outputs": [],
   "source": [
    "import pandas as pd\n",
    "import numpy as np\n",
    "import matplotlib.pyplot as plt\n",
    "import seaborn as sns\n",
    "sns.set()\n",
    "import statsmodels.graphics.tsaplots as sgt\n",
    "import statsmodels.tsa.stattools as sts\n",
    "from statsmodels.tsa.seasonal import seasonal_decompose"
   ]
  },
  {
   "cell_type": "code",
   "execution_count": 11,
   "metadata": {},
   "outputs": [],
   "source": [
    "raw_data = pd.read_csv('IndexE8.csv')\n",
    "df_comp = raw_data.copy()\n",
    "df_comp.date = pd.to_datetime(df_comp.date, dayfirst=True)\n",
    "df_comp.set_index('date', inplace=True)\n",
    "df_comp = df_comp.asfreq('b')\n",
    "df_comp = df_comp.fillna(method='ffill')"
   ]
  },
  {
   "cell_type": "code",
   "execution_count": 12,
   "metadata": {},
   "outputs": [],
   "source": [
    "df_comp['market_value'] = df_comp.spx\n",
    "del df_comp['spx'],df_comp['dax'],df_comp['ftse'],df_comp['nikkei']\n",
    "size = int(len(df_comp)*0.8)\n",
    "train_df = df_comp.iloc[:size]\n",
    "test_df = df_comp.iloc[size:]"
   ]
  },
  {
   "cell_type": "code",
   "execution_count": 13,
   "metadata": {},
   "outputs": [
    {
     "name": "stderr",
     "output_type": "stream",
     "text": [
      "<ipython-input-13-45c5a5f434a0>:1: SettingWithCopyWarning: \n",
      "A value is trying to be set on a copy of a slice from a DataFrame.\n",
      "Try using .loc[row_indexer,col_indexer] = value instead\n",
      "\n",
      "See the caveats in the documentation: https://pandas.pydata.org/pandas-docs/stable/user_guide/indexing.html#returning-a-view-versus-a-copy\n",
      "  train_df['return1'] = train_df.market_value.pct_change(1).mul(100)\n"
     ]
    }
   ],
   "source": [
    "train_df['return1'] = train_df.market_value.pct_change(1).mul(100)"
   ]
  },
  {
   "cell_type": "code",
   "execution_count": 14,
   "metadata": {},
   "outputs": [],
   "source": [
    "train_df = train_df.iloc[1:]"
   ]
  },
  {
   "cell_type": "code",
   "execution_count": 15,
   "metadata": {},
   "outputs": [
    {
     "data": {
      "text/html": [
       "<div>\n",
       "<style scoped>\n",
       "    .dataframe tbody tr th:only-of-type {\n",
       "        vertical-align: middle;\n",
       "    }\n",
       "\n",
       "    .dataframe tbody tr th {\n",
       "        vertical-align: top;\n",
       "    }\n",
       "\n",
       "    .dataframe thead th {\n",
       "        text-align: right;\n",
       "    }\n",
       "</style>\n",
       "<table border=\"1\" class=\"dataframe\">\n",
       "  <thead>\n",
       "    <tr style=\"text-align: right;\">\n",
       "      <th></th>\n",
       "      <th>market_value</th>\n",
       "      <th>return1</th>\n",
       "    </tr>\n",
       "    <tr>\n",
       "      <th>date</th>\n",
       "      <th></th>\n",
       "      <th></th>\n",
       "    </tr>\n",
       "  </thead>\n",
       "  <tbody>\n",
       "    <tr>\n",
       "      <th>1994-01-10</th>\n",
       "      <td>475.270000</td>\n",
       "      <td>1.142796</td>\n",
       "    </tr>\n",
       "    <tr>\n",
       "      <th>1994-01-11</th>\n",
       "      <td>474.130000</td>\n",
       "      <td>-0.239864</td>\n",
       "    </tr>\n",
       "    <tr>\n",
       "      <th>1994-01-12</th>\n",
       "      <td>474.170000</td>\n",
       "      <td>0.008437</td>\n",
       "    </tr>\n",
       "    <tr>\n",
       "      <th>1994-01-13</th>\n",
       "      <td>472.470000</td>\n",
       "      <td>-0.358521</td>\n",
       "    </tr>\n",
       "    <tr>\n",
       "      <th>1994-01-14</th>\n",
       "      <td>474.910000</td>\n",
       "      <td>0.516435</td>\n",
       "    </tr>\n",
       "    <tr>\n",
       "      <th>...</th>\n",
       "      <td>...</td>\n",
       "      <td>...</td>\n",
       "    </tr>\n",
       "    <tr>\n",
       "      <th>2013-04-01</th>\n",
       "      <td>1562.173837</td>\n",
       "      <td>-0.446858</td>\n",
       "    </tr>\n",
       "    <tr>\n",
       "      <th>2013-04-02</th>\n",
       "      <td>1570.252238</td>\n",
       "      <td>0.517126</td>\n",
       "    </tr>\n",
       "    <tr>\n",
       "      <th>2013-04-03</th>\n",
       "      <td>1553.686978</td>\n",
       "      <td>-1.054943</td>\n",
       "    </tr>\n",
       "    <tr>\n",
       "      <th>2013-04-04</th>\n",
       "      <td>1559.979316</td>\n",
       "      <td>0.404994</td>\n",
       "    </tr>\n",
       "    <tr>\n",
       "      <th>2013-04-05</th>\n",
       "      <td>1553.278930</td>\n",
       "      <td>-0.429518</td>\n",
       "    </tr>\n",
       "  </tbody>\n",
       "</table>\n",
       "<p>5020 rows × 2 columns</p>\n",
       "</div>"
      ],
      "text/plain": [
       "            market_value   return1\n",
       "date                              \n",
       "1994-01-10    475.270000  1.142796\n",
       "1994-01-11    474.130000 -0.239864\n",
       "1994-01-12    474.170000  0.008437\n",
       "1994-01-13    472.470000 -0.358521\n",
       "1994-01-14    474.910000  0.516435\n",
       "...                  ...       ...\n",
       "2013-04-01   1562.173837 -0.446858\n",
       "2013-04-02   1570.252238  0.517126\n",
       "2013-04-03   1553.686978 -1.054943\n",
       "2013-04-04   1559.979316  0.404994\n",
       "2013-04-05   1553.278930 -0.429518\n",
       "\n",
       "[5020 rows x 2 columns]"
      ]
     },
     "execution_count": 15,
     "metadata": {},
     "output_type": "execute_result"
    }
   ],
   "source": [
    "train_df"
   ]
  },
  {
   "cell_type": "code",
   "execution_count": 7,
   "metadata": {},
   "outputs": [],
   "source": [
    "from statsmodels.tsa.arima_model import ARMA\n",
    "from scipy.stats.distributions import chi2"
   ]
  },
  {
   "cell_type": "code",
   "execution_count": 17,
   "metadata": {},
   "outputs": [
    {
     "data": {
      "text/html": [
       "<table class=\"simpletable\">\n",
       "<caption>ARMA Model Results</caption>\n",
       "<tr>\n",
       "  <th>Dep. Variable:</th>      <td>return1</td>     <th>  No. Observations:  </th>   <td>5020</td>   \n",
       "</tr>\n",
       "<tr>\n",
       "  <th>Model:</th>            <td>ARMA(1, 0)</td>    <th>  Log Likelihood     </th> <td>-8067.541</td>\n",
       "</tr>\n",
       "<tr>\n",
       "  <th>Method:</th>             <td>css-mle</td>     <th>  S.D. of innovations</th>   <td>1.207</td>  \n",
       "</tr>\n",
       "<tr>\n",
       "  <th>Date:</th>          <td>Wed, 14 Oct 2020</td> <th>  AIC                </th> <td>16141.081</td>\n",
       "</tr>\n",
       "<tr>\n",
       "  <th>Time:</th>              <td>14:18:45</td>     <th>  BIC                </th> <td>16160.645</td>\n",
       "</tr>\n",
       "<tr>\n",
       "  <th>Sample:</th>           <td>01-10-1994</td>    <th>  HQIC               </th> <td>16147.937</td>\n",
       "</tr>\n",
       "<tr>\n",
       "  <th></th>                 <td>- 04-05-2013</td>   <th>                     </th>     <td> </td>    \n",
       "</tr>\n",
       "</table>\n",
       "<table class=\"simpletable\">\n",
       "<tr>\n",
       "        <td></td>           <th>coef</th>     <th>std err</th>      <th>z</th>      <th>P>|z|</th>  <th>[0.025</th>    <th>0.975]</th>  \n",
       "</tr>\n",
       "<tr>\n",
       "  <th>const</th>         <td>    0.0311</td> <td>    0.016</td> <td>    1.959</td> <td> 0.050</td> <td>-1.03e-05</td> <td>    0.062</td>\n",
       "</tr>\n",
       "<tr>\n",
       "  <th>ar.L1.return1</th> <td>   -0.0719</td> <td>    0.014</td> <td>   -5.108</td> <td> 0.000</td> <td>   -0.099</td> <td>   -0.044</td>\n",
       "</tr>\n",
       "</table>\n",
       "<table class=\"simpletable\">\n",
       "<caption>Roots</caption>\n",
       "<tr>\n",
       "    <td></td>   <th>            Real</th>  <th>         Imaginary</th> <th>         Modulus</th>  <th>        Frequency</th>\n",
       "</tr>\n",
       "<tr>\n",
       "  <th>AR.1</th> <td>         -13.9069</td> <td>          +0.0000j</td> <td>          13.9069</td> <td>           0.5000</td>\n",
       "</tr>\n",
       "</table>"
      ],
      "text/plain": [
       "<class 'statsmodels.iolib.summary.Summary'>\n",
       "\"\"\"\n",
       "                              ARMA Model Results                              \n",
       "==============================================================================\n",
       "Dep. Variable:                return1   No. Observations:                 5020\n",
       "Model:                     ARMA(1, 0)   Log Likelihood               -8067.541\n",
       "Method:                       css-mle   S.D. of innovations              1.207\n",
       "Date:                Wed, 14 Oct 2020   AIC                          16141.081\n",
       "Time:                        14:18:45   BIC                          16160.645\n",
       "Sample:                    01-10-1994   HQIC                         16147.937\n",
       "                         - 04-05-2013                                         \n",
       "=================================================================================\n",
       "                    coef    std err          z      P>|z|      [0.025      0.975]\n",
       "---------------------------------------------------------------------------------\n",
       "const             0.0311      0.016      1.959      0.050   -1.03e-05       0.062\n",
       "ar.L1.return1    -0.0719      0.014     -5.108      0.000      -0.099      -0.044\n",
       "                                    Roots                                    \n",
       "=============================================================================\n",
       "                  Real          Imaginary           Modulus         Frequency\n",
       "-----------------------------------------------------------------------------\n",
       "AR.1          -13.9069           +0.0000j           13.9069            0.5000\n",
       "-----------------------------------------------------------------------------\n",
       "\"\"\""
      ]
     },
     "execution_count": 17,
     "metadata": {},
     "output_type": "execute_result"
    }
   ],
   "source": [
    "model_ar = ARMA(train_df.return1 , order = (1,0))\n",
    "results_ar = model_ar.fit()\n",
    "results_ar.summary()"
   ]
  },
  {
   "cell_type": "code",
   "execution_count": 18,
   "metadata": {},
   "outputs": [
    {
     "data": {
      "text/html": [
       "<table class=\"simpletable\">\n",
       "<caption>ARMA Model Results</caption>\n",
       "<tr>\n",
       "  <th>Dep. Variable:</th>      <td>return1</td>     <th>  No. Observations:  </th>   <td>5020</td>   \n",
       "</tr>\n",
       "<tr>\n",
       "  <th>Model:</th>            <td>ARMA(2, 0)</td>    <th>  Log Likelihood     </th> <td>-8063.177</td>\n",
       "</tr>\n",
       "<tr>\n",
       "  <th>Method:</th>             <td>css-mle</td>     <th>  S.D. of innovations</th>   <td>1.206</td>  \n",
       "</tr>\n",
       "<tr>\n",
       "  <th>Date:</th>          <td>Wed, 14 Oct 2020</td> <th>  AIC                </th> <td>16134.354</td>\n",
       "</tr>\n",
       "<tr>\n",
       "  <th>Time:</th>              <td>14:22:25</td>     <th>  BIC                </th> <td>16160.439</td>\n",
       "</tr>\n",
       "<tr>\n",
       "  <th>Sample:</th>           <td>01-10-1994</td>    <th>  HQIC               </th> <td>16143.494</td>\n",
       "</tr>\n",
       "<tr>\n",
       "  <th></th>                 <td>- 04-05-2013</td>   <th>                     </th>     <td> </td>    \n",
       "</tr>\n",
       "</table>\n",
       "<table class=\"simpletable\">\n",
       "<tr>\n",
       "        <td></td>           <th>coef</th>     <th>std err</th>      <th>z</th>      <th>P>|z|</th>  <th>[0.025</th>    <th>0.975]</th>  \n",
       "</tr>\n",
       "<tr>\n",
       "  <th>const</th>         <td>    0.0311</td> <td>    0.015</td> <td>    2.042</td> <td> 0.041</td> <td>    0.001</td> <td>    0.061</td>\n",
       "</tr>\n",
       "<tr>\n",
       "  <th>ar.L1.return1</th> <td>   -0.0749</td> <td>    0.014</td> <td>   -5.312</td> <td> 0.000</td> <td>   -0.103</td> <td>   -0.047</td>\n",
       "</tr>\n",
       "<tr>\n",
       "  <th>ar.L2.return1</th> <td>   -0.0417</td> <td>    0.014</td> <td>   -2.955</td> <td> 0.003</td> <td>   -0.069</td> <td>   -0.014</td>\n",
       "</tr>\n",
       "</table>\n",
       "<table class=\"simpletable\">\n",
       "<caption>Roots</caption>\n",
       "<tr>\n",
       "    <td></td>   <th>            Real</th>  <th>         Imaginary</th> <th>         Modulus</th>  <th>        Frequency</th>\n",
       "</tr>\n",
       "<tr>\n",
       "  <th>AR.1</th> <td>          -0.8987</td> <td>          -4.8154j</td> <td>           4.8986</td> <td>          -0.2794</td>\n",
       "</tr>\n",
       "<tr>\n",
       "  <th>AR.2</th> <td>          -0.8987</td> <td>          +4.8154j</td> <td>           4.8986</td> <td>           0.2794</td>\n",
       "</tr>\n",
       "</table>"
      ],
      "text/plain": [
       "<class 'statsmodels.iolib.summary.Summary'>\n",
       "\"\"\"\n",
       "                              ARMA Model Results                              \n",
       "==============================================================================\n",
       "Dep. Variable:                return1   No. Observations:                 5020\n",
       "Model:                     ARMA(2, 0)   Log Likelihood               -8063.177\n",
       "Method:                       css-mle   S.D. of innovations              1.206\n",
       "Date:                Wed, 14 Oct 2020   AIC                          16134.354\n",
       "Time:                        14:22:25   BIC                          16160.439\n",
       "Sample:                    01-10-1994   HQIC                         16143.494\n",
       "                         - 04-05-2013                                         \n",
       "=================================================================================\n",
       "                    coef    std err          z      P>|z|      [0.025      0.975]\n",
       "---------------------------------------------------------------------------------\n",
       "const             0.0311      0.015      2.042      0.041       0.001       0.061\n",
       "ar.L1.return1    -0.0749      0.014     -5.312      0.000      -0.103      -0.047\n",
       "ar.L2.return1    -0.0417      0.014     -2.955      0.003      -0.069      -0.014\n",
       "                                    Roots                                    \n",
       "=============================================================================\n",
       "                  Real          Imaginary           Modulus         Frequency\n",
       "-----------------------------------------------------------------------------\n",
       "AR.1           -0.8987           -4.8154j            4.8986           -0.2794\n",
       "AR.2           -0.8987           +4.8154j            4.8986            0.2794\n",
       "-----------------------------------------------------------------------------\n",
       "\"\"\""
      ]
     },
     "execution_count": 18,
     "metadata": {},
     "output_type": "execute_result"
    }
   ],
   "source": [
    "model_ar2 = ARMA(train_df.return1 , order = (2,0))\n",
    "results_ar2 = model_ar2.fit()\n",
    "results_ar2.summary()"
   ]
  },
  {
   "cell_type": "code",
   "execution_count": 23,
   "metadata": {},
   "outputs": [
    {
     "data": {
      "text/html": [
       "<table class=\"simpletable\">\n",
       "<caption>ARMA Model Results</caption>\n",
       "<tr>\n",
       "  <th>Dep. Variable:</th>      <td>return1</td>     <th>  No. Observations:  </th>   <td>5020</td>   \n",
       "</tr>\n",
       "<tr>\n",
       "  <th>Model:</th>            <td>ARMA(3, 0)</td>    <th>  Log Likelihood     </th> <td>-8062.879</td>\n",
       "</tr>\n",
       "<tr>\n",
       "  <th>Method:</th>             <td>css-mle</td>     <th>  S.D. of innovations</th>   <td>1.206</td>  \n",
       "</tr>\n",
       "<tr>\n",
       "  <th>Date:</th>          <td>Wed, 14 Oct 2020</td> <th>  AIC                </th> <td>16135.758</td>\n",
       "</tr>\n",
       "<tr>\n",
       "  <th>Time:</th>              <td>14:24:11</td>     <th>  BIC                </th> <td>16168.364</td>\n",
       "</tr>\n",
       "<tr>\n",
       "  <th>Sample:</th>           <td>01-10-1994</td>    <th>  HQIC               </th> <td>16147.184</td>\n",
       "</tr>\n",
       "<tr>\n",
       "  <th></th>                 <td>- 04-05-2013</td>   <th>                     </th>     <td> </td>    \n",
       "</tr>\n",
       "</table>\n",
       "<table class=\"simpletable\">\n",
       "<tr>\n",
       "        <td></td>           <th>coef</th>     <th>std err</th>      <th>z</th>      <th>P>|z|</th>  <th>[0.025</th>    <th>0.975]</th>  \n",
       "</tr>\n",
       "<tr>\n",
       "  <th>const</th>         <td>    0.0311</td> <td>    0.015</td> <td>    2.065</td> <td> 0.039</td> <td>    0.002</td> <td>    0.061</td>\n",
       "</tr>\n",
       "<tr>\n",
       "  <th>ar.L1.return1</th> <td>   -0.0754</td> <td>    0.014</td> <td>   -5.339</td> <td> 0.000</td> <td>   -0.103</td> <td>   -0.048</td>\n",
       "</tr>\n",
       "<tr>\n",
       "  <th>ar.L2.return1</th> <td>   -0.0425</td> <td>    0.014</td> <td>   -3.005</td> <td> 0.003</td> <td>   -0.070</td> <td>   -0.015</td>\n",
       "</tr>\n",
       "<tr>\n",
       "  <th>ar.L3.return1</th> <td>   -0.0109</td> <td>    0.014</td> <td>   -0.772</td> <td> 0.440</td> <td>   -0.039</td> <td>    0.017</td>\n",
       "</tr>\n",
       "</table>\n",
       "<table class=\"simpletable\">\n",
       "<caption>Roots</caption>\n",
       "<tr>\n",
       "    <td></td>   <th>            Real</th>  <th>         Imaginary</th> <th>         Modulus</th>  <th>        Frequency</th>\n",
       "</tr>\n",
       "<tr>\n",
       "  <th>AR.1</th> <td>           0.8476</td> <td>          -3.9608j</td> <td>           4.0505</td> <td>          -0.2164</td>\n",
       "</tr>\n",
       "<tr>\n",
       "  <th>AR.2</th> <td>           0.8476</td> <td>          +3.9608j</td> <td>           4.0505</td> <td>           0.2164</td>\n",
       "</tr>\n",
       "<tr>\n",
       "  <th>AR.3</th> <td>          -5.5964</td> <td>          -0.0000j</td> <td>           5.5964</td> <td>          -0.5000</td>\n",
       "</tr>\n",
       "</table>"
      ],
      "text/plain": [
       "<class 'statsmodels.iolib.summary.Summary'>\n",
       "\"\"\"\n",
       "                              ARMA Model Results                              \n",
       "==============================================================================\n",
       "Dep. Variable:                return1   No. Observations:                 5020\n",
       "Model:                     ARMA(3, 0)   Log Likelihood               -8062.879\n",
       "Method:                       css-mle   S.D. of innovations              1.206\n",
       "Date:                Wed, 14 Oct 2020   AIC                          16135.758\n",
       "Time:                        14:24:11   BIC                          16168.364\n",
       "Sample:                    01-10-1994   HQIC                         16147.184\n",
       "                         - 04-05-2013                                         \n",
       "=================================================================================\n",
       "                    coef    std err          z      P>|z|      [0.025      0.975]\n",
       "---------------------------------------------------------------------------------\n",
       "const             0.0311      0.015      2.065      0.039       0.002       0.061\n",
       "ar.L1.return1    -0.0754      0.014     -5.339      0.000      -0.103      -0.048\n",
       "ar.L2.return1    -0.0425      0.014     -3.005      0.003      -0.070      -0.015\n",
       "ar.L3.return1    -0.0109      0.014     -0.772      0.440      -0.039       0.017\n",
       "                                    Roots                                    \n",
       "=============================================================================\n",
       "                  Real          Imaginary           Modulus         Frequency\n",
       "-----------------------------------------------------------------------------\n",
       "AR.1            0.8476           -3.9608j            4.0505           -0.2164\n",
       "AR.2            0.8476           +3.9608j            4.0505            0.2164\n",
       "AR.3           -5.5964           -0.0000j            5.5964           -0.5000\n",
       "-----------------------------------------------------------------------------\n",
       "\"\"\""
      ]
     },
     "execution_count": 23,
     "metadata": {},
     "output_type": "execute_result"
    }
   ],
   "source": [
    "model_ar3 = ARMA(train_df.return1 , order = (3,0))\n",
    "results_ar3 = model_ar3.fit()\n",
    "results_ar3.summary()"
   ]
  },
  {
   "cell_type": "code",
   "execution_count": 24,
   "metadata": {},
   "outputs": [],
   "source": [
    "def LLR_test(mod_1,mod_2,DF=1):\n",
    "    \n",
    "    L1 = mod_1.fit().llf\n",
    "    L2 = mod_2.fit().llf\n",
    "    LR = (2*(L2-L1))\n",
    "    P = chi2.sf(LR,DF).round(3)\n",
    "    \n",
    "    return P"
   ]
  },
  {
   "cell_type": "code",
   "execution_count": 25,
   "metadata": {},
   "outputs": [
    {
     "data": {
      "text/plain": [
       "0.003"
      ]
     },
     "execution_count": 25,
     "metadata": {},
     "output_type": "execute_result"
    }
   ],
   "source": [
    "LLR_test(model_ar,model_ar2)"
   ]
  },
  {
   "cell_type": "code",
   "execution_count": 26,
   "metadata": {},
   "outputs": [
    {
     "data": {
      "text/plain": [
       "0.44"
      ]
     },
     "execution_count": 26,
     "metadata": {},
     "output_type": "execute_result"
    }
   ],
   "source": [
    "LLR_test(model_ar2,model_ar3)"
   ]
  },
  {
   "cell_type": "markdown",
   "metadata": {},
   "source": [
    "Noramlization"
   ]
  },
  {
   "cell_type": "code",
   "execution_count": 27,
   "metadata": {},
   "outputs": [],
   "source": [
    "bechmark = train_df.market_value[0]\n",
    "train_df['norm'] = train_df.market_value.div(bechmark).mul(100)"
   ]
  },
  {
   "cell_type": "code",
   "execution_count": 28,
   "metadata": {},
   "outputs": [
    {
     "data": {
      "text/html": [
       "<div>\n",
       "<style scoped>\n",
       "    .dataframe tbody tr th:only-of-type {\n",
       "        vertical-align: middle;\n",
       "    }\n",
       "\n",
       "    .dataframe tbody tr th {\n",
       "        vertical-align: top;\n",
       "    }\n",
       "\n",
       "    .dataframe thead th {\n",
       "        text-align: right;\n",
       "    }\n",
       "</style>\n",
       "<table border=\"1\" class=\"dataframe\">\n",
       "  <thead>\n",
       "    <tr style=\"text-align: right;\">\n",
       "      <th></th>\n",
       "      <th>market_value</th>\n",
       "      <th>return1</th>\n",
       "      <th>norm</th>\n",
       "    </tr>\n",
       "    <tr>\n",
       "      <th>date</th>\n",
       "      <th></th>\n",
       "      <th></th>\n",
       "      <th></th>\n",
       "    </tr>\n",
       "  </thead>\n",
       "  <tbody>\n",
       "    <tr>\n",
       "      <th>1994-01-10</th>\n",
       "      <td>475.27</td>\n",
       "      <td>1.142796</td>\n",
       "      <td>100.000000</td>\n",
       "    </tr>\n",
       "    <tr>\n",
       "      <th>1994-01-11</th>\n",
       "      <td>474.13</td>\n",
       "      <td>-0.239864</td>\n",
       "      <td>99.760136</td>\n",
       "    </tr>\n",
       "    <tr>\n",
       "      <th>1994-01-12</th>\n",
       "      <td>474.17</td>\n",
       "      <td>0.008437</td>\n",
       "      <td>99.768553</td>\n",
       "    </tr>\n",
       "    <tr>\n",
       "      <th>1994-01-13</th>\n",
       "      <td>472.47</td>\n",
       "      <td>-0.358521</td>\n",
       "      <td>99.410861</td>\n",
       "    </tr>\n",
       "    <tr>\n",
       "      <th>1994-01-14</th>\n",
       "      <td>474.91</td>\n",
       "      <td>0.516435</td>\n",
       "      <td>99.924254</td>\n",
       "    </tr>\n",
       "  </tbody>\n",
       "</table>\n",
       "</div>"
      ],
      "text/plain": [
       "            market_value   return1        norm\n",
       "date                                          \n",
       "1994-01-10        475.27  1.142796  100.000000\n",
       "1994-01-11        474.13 -0.239864   99.760136\n",
       "1994-01-12        474.17  0.008437   99.768553\n",
       "1994-01-13        472.47 -0.358521   99.410861\n",
       "1994-01-14        474.91  0.516435   99.924254"
      ]
     },
     "execution_count": 28,
     "metadata": {},
     "output_type": "execute_result"
    }
   ],
   "source": [
    "train_df.head()"
   ]
  },
  {
   "cell_type": "code",
   "execution_count": 29,
   "metadata": {},
   "outputs": [
    {
     "data": {
      "text/plain": [
       "(-1.7396871077371265,\n",
       " 0.4107891338207882,\n",
       " 18,\n",
       " 5001,\n",
       " {'1%': -3.431658270286891,\n",
       "  '5%': -2.8621181140235223,\n",
       "  '10%': -2.5670777307913744},\n",
       " 24351.278699350325)"
      ]
     },
     "execution_count": 29,
     "metadata": {},
     "output_type": "execute_result"
    }
   ],
   "source": [
    "sts.adfuller(train_df.norm)"
   ]
  },
  {
   "cell_type": "code",
   "execution_count": 30,
   "metadata": {},
   "outputs": [],
   "source": [
    "bech_return1 = train_df.return1[0]\n",
    "train_df['norm_return'] = train_df.return1.div(bech_return1).mul(100)"
   ]
  },
  {
   "cell_type": "code",
   "execution_count": 31,
   "metadata": {},
   "outputs": [
    {
     "data": {
      "text/plain": [
       "(-17.03445719098115,\n",
       " 8.28053702031742e-30,\n",
       " 17,\n",
       " 5002,\n",
       " {'1%': -3.431658008603046,\n",
       "  '5%': -2.862117998412982,\n",
       "  '10%': -2.567077669247375},\n",
       " 60636.5822032878)"
      ]
     },
     "execution_count": 31,
     "metadata": {},
     "output_type": "execute_result"
    }
   ],
   "source": [
    "sts.adfuller(train_df.norm_return)"
   ]
  },
  {
   "cell_type": "code",
   "execution_count": 32,
   "metadata": {},
   "outputs": [
    {
     "data": {
      "text/html": [
       "<table class=\"simpletable\">\n",
       "<caption>ARMA Model Results</caption>\n",
       "<tr>\n",
       "  <th>Dep. Variable:</th>    <td>norm_return</td>   <th>  No. Observations:  </th>    <td>5020</td>   \n",
       "</tr>\n",
       "<tr>\n",
       "  <th>Model:</th>            <td>ARMA(1, 0)</td>    <th>  Log Likelihood     </th> <td>-30515.434</td>\n",
       "</tr>\n",
       "<tr>\n",
       "  <th>Method:</th>             <td>css-mle</td>     <th>  S.D. of innovations</th>   <td>105.618</td> \n",
       "</tr>\n",
       "<tr>\n",
       "  <th>Date:</th>          <td>Wed, 14 Oct 2020</td> <th>  AIC                </th>  <td>61036.869</td>\n",
       "</tr>\n",
       "<tr>\n",
       "  <th>Time:</th>              <td>14:38:07</td>     <th>  BIC                </th>  <td>61056.432</td>\n",
       "</tr>\n",
       "<tr>\n",
       "  <th>Sample:</th>           <td>01-10-1994</td>    <th>  HQIC               </th>  <td>61043.724</td>\n",
       "</tr>\n",
       "<tr>\n",
       "  <th></th>                 <td>- 04-05-2013</td>   <th>                     </th>      <td> </td>    \n",
       "</tr>\n",
       "</table>\n",
       "<table class=\"simpletable\">\n",
       "<tr>\n",
       "          <td></td>             <th>coef</th>     <th>std err</th>      <th>z</th>      <th>P>|z|</th>  <th>[0.025</th>    <th>0.975]</th>  \n",
       "</tr>\n",
       "<tr>\n",
       "  <th>const</th>             <td>    2.7250</td> <td>    1.391</td> <td>    1.959</td> <td> 0.050</td> <td>   -0.001</td> <td>    5.451</td>\n",
       "</tr>\n",
       "<tr>\n",
       "  <th>ar.L1.norm_return</th> <td>   -0.0719</td> <td>    0.014</td> <td>   -5.108</td> <td> 0.000</td> <td>   -0.099</td> <td>   -0.044</td>\n",
       "</tr>\n",
       "</table>\n",
       "<table class=\"simpletable\">\n",
       "<caption>Roots</caption>\n",
       "<tr>\n",
       "    <td></td>   <th>            Real</th>  <th>         Imaginary</th> <th>         Modulus</th>  <th>        Frequency</th>\n",
       "</tr>\n",
       "<tr>\n",
       "  <th>AR.1</th> <td>         -13.9069</td> <td>          +0.0000j</td> <td>          13.9069</td> <td>           0.5000</td>\n",
       "</tr>\n",
       "</table>"
      ],
      "text/plain": [
       "<class 'statsmodels.iolib.summary.Summary'>\n",
       "\"\"\"\n",
       "                              ARMA Model Results                              \n",
       "==============================================================================\n",
       "Dep. Variable:            norm_return   No. Observations:                 5020\n",
       "Model:                     ARMA(1, 0)   Log Likelihood              -30515.434\n",
       "Method:                       css-mle   S.D. of innovations            105.618\n",
       "Date:                Wed, 14 Oct 2020   AIC                          61036.869\n",
       "Time:                        14:38:07   BIC                          61056.432\n",
       "Sample:                    01-10-1994   HQIC                         61043.724\n",
       "                         - 04-05-2013                                         \n",
       "=====================================================================================\n",
       "                        coef    std err          z      P>|z|      [0.025      0.975]\n",
       "-------------------------------------------------------------------------------------\n",
       "const                 2.7250      1.391      1.959      0.050      -0.001       5.451\n",
       "ar.L1.norm_return    -0.0719      0.014     -5.108      0.000      -0.099      -0.044\n",
       "                                    Roots                                    \n",
       "=============================================================================\n",
       "                  Real          Imaginary           Modulus         Frequency\n",
       "-----------------------------------------------------------------------------\n",
       "AR.1          -13.9069           +0.0000j           13.9069            0.5000\n",
       "-----------------------------------------------------------------------------\n",
       "\"\"\""
      ]
     },
     "execution_count": 32,
     "metadata": {},
     "output_type": "execute_result"
    }
   ],
   "source": [
    "model_ar = ARMA(train_df.norm_return , order = (1,0))\n",
    "results_ar = model_ar.fit()\n",
    "results_ar.summary()"
   ]
  },
  {
   "cell_type": "code",
   "execution_count": 33,
   "metadata": {},
   "outputs": [
    {
     "data": {
      "text/html": [
       "<table class=\"simpletable\">\n",
       "<caption>ARMA Model Results</caption>\n",
       "<tr>\n",
       "  <th>Dep. Variable:</th>    <td>norm_return</td>   <th>  No. Observations:  </th>    <td>5020</td>   \n",
       "</tr>\n",
       "<tr>\n",
       "  <th>Model:</th>            <td>ARMA(2, 0)</td>    <th>  Log Likelihood     </th> <td>-30511.071</td>\n",
       "</tr>\n",
       "<tr>\n",
       "  <th>Method:</th>             <td>css-mle</td>     <th>  S.D. of innovations</th>   <td>105.527</td> \n",
       "</tr>\n",
       "<tr>\n",
       "  <th>Date:</th>          <td>Wed, 14 Oct 2020</td> <th>  AIC                </th>  <td>61030.142</td>\n",
       "</tr>\n",
       "<tr>\n",
       "  <th>Time:</th>              <td>14:38:30</td>     <th>  BIC                </th>  <td>61056.226</td>\n",
       "</tr>\n",
       "<tr>\n",
       "  <th>Sample:</th>           <td>01-10-1994</td>    <th>  HQIC               </th>  <td>61039.282</td>\n",
       "</tr>\n",
       "<tr>\n",
       "  <th></th>                 <td>- 04-05-2013</td>   <th>                     </th>      <td> </td>    \n",
       "</tr>\n",
       "</table>\n",
       "<table class=\"simpletable\">\n",
       "<tr>\n",
       "          <td></td>             <th>coef</th>     <th>std err</th>      <th>z</th>      <th>P>|z|</th>  <th>[0.025</th>    <th>0.975]</th>  \n",
       "</tr>\n",
       "<tr>\n",
       "  <th>const</th>             <td>    2.7243</td> <td>    1.334</td> <td>    2.042</td> <td> 0.041</td> <td>    0.110</td> <td>    5.339</td>\n",
       "</tr>\n",
       "<tr>\n",
       "  <th>ar.L1.norm_return</th> <td>   -0.0749</td> <td>    0.014</td> <td>   -5.312</td> <td> 0.000</td> <td>   -0.103</td> <td>   -0.047</td>\n",
       "</tr>\n",
       "<tr>\n",
       "  <th>ar.L2.norm_return</th> <td>   -0.0417</td> <td>    0.014</td> <td>   -2.955</td> <td> 0.003</td> <td>   -0.069</td> <td>   -0.014</td>\n",
       "</tr>\n",
       "</table>\n",
       "<table class=\"simpletable\">\n",
       "<caption>Roots</caption>\n",
       "<tr>\n",
       "    <td></td>   <th>            Real</th>  <th>         Imaginary</th> <th>         Modulus</th>  <th>        Frequency</th>\n",
       "</tr>\n",
       "<tr>\n",
       "  <th>AR.1</th> <td>          -0.8987</td> <td>          -4.8155j</td> <td>           4.8986</td> <td>          -0.2794</td>\n",
       "</tr>\n",
       "<tr>\n",
       "  <th>AR.2</th> <td>          -0.8987</td> <td>          +4.8155j</td> <td>           4.8986</td> <td>           0.2794</td>\n",
       "</tr>\n",
       "</table>"
      ],
      "text/plain": [
       "<class 'statsmodels.iolib.summary.Summary'>\n",
       "\"\"\"\n",
       "                              ARMA Model Results                              \n",
       "==============================================================================\n",
       "Dep. Variable:            norm_return   No. Observations:                 5020\n",
       "Model:                     ARMA(2, 0)   Log Likelihood              -30511.071\n",
       "Method:                       css-mle   S.D. of innovations            105.527\n",
       "Date:                Wed, 14 Oct 2020   AIC                          61030.142\n",
       "Time:                        14:38:30   BIC                          61056.226\n",
       "Sample:                    01-10-1994   HQIC                         61039.282\n",
       "                         - 04-05-2013                                         \n",
       "=====================================================================================\n",
       "                        coef    std err          z      P>|z|      [0.025      0.975]\n",
       "-------------------------------------------------------------------------------------\n",
       "const                 2.7243      1.334      2.042      0.041       0.110       5.339\n",
       "ar.L1.norm_return    -0.0749      0.014     -5.312      0.000      -0.103      -0.047\n",
       "ar.L2.norm_return    -0.0417      0.014     -2.955      0.003      -0.069      -0.014\n",
       "                                    Roots                                    \n",
       "=============================================================================\n",
       "                  Real          Imaginary           Modulus         Frequency\n",
       "-----------------------------------------------------------------------------\n",
       "AR.1           -0.8987           -4.8155j            4.8986           -0.2794\n",
       "AR.2           -0.8987           +4.8155j            4.8986            0.2794\n",
       "-----------------------------------------------------------------------------\n",
       "\"\"\""
      ]
     },
     "execution_count": 33,
     "metadata": {},
     "output_type": "execute_result"
    }
   ],
   "source": [
    "model_ar2 = ARMA(train_df.norm_return , order = (2,0))\n",
    "results_ar2 = model_ar2.fit()\n",
    "results_ar2.summary()"
   ]
  },
  {
   "cell_type": "code",
   "execution_count": 34,
   "metadata": {},
   "outputs": [
    {
     "data": {
      "text/html": [
       "<table class=\"simpletable\">\n",
       "<caption>ARMA Model Results</caption>\n",
       "<tr>\n",
       "  <th>Dep. Variable:</th>    <td>norm_return</td>   <th>  No. Observations:  </th>    <td>5020</td>   \n",
       "</tr>\n",
       "<tr>\n",
       "  <th>Model:</th>            <td>ARMA(7, 0)</td>    <th>  Log Likelihood     </th> <td>-30502.512</td>\n",
       "</tr>\n",
       "<tr>\n",
       "  <th>Method:</th>             <td>css-mle</td>     <th>  S.D. of innovations</th>   <td>105.347</td> \n",
       "</tr>\n",
       "<tr>\n",
       "  <th>Date:</th>          <td>Wed, 14 Oct 2020</td> <th>  AIC                </th>  <td>61023.023</td>\n",
       "</tr>\n",
       "<tr>\n",
       "  <th>Time:</th>              <td>14:39:50</td>     <th>  BIC                </th>  <td>61081.714</td>\n",
       "</tr>\n",
       "<tr>\n",
       "  <th>Sample:</th>           <td>01-10-1994</td>    <th>  HQIC               </th>  <td>61043.589</td>\n",
       "</tr>\n",
       "<tr>\n",
       "  <th></th>                 <td>- 04-05-2013</td>   <th>                     </th>      <td> </td>    \n",
       "</tr>\n",
       "</table>\n",
       "<table class=\"simpletable\">\n",
       "<tr>\n",
       "          <td></td>             <th>coef</th>     <th>std err</th>      <th>z</th>      <th>P>|z|</th>  <th>[0.025</th>    <th>0.975]</th>  \n",
       "</tr>\n",
       "<tr>\n",
       "  <th>const</th>             <td>    2.7252</td> <td>    1.188</td> <td>    2.294</td> <td> 0.022</td> <td>    0.397</td> <td>    5.053</td>\n",
       "</tr>\n",
       "<tr>\n",
       "  <th>ar.L1.norm_return</th> <td>   -0.0774</td> <td>    0.014</td> <td>   -5.485</td> <td> 0.000</td> <td>   -0.105</td> <td>   -0.050</td>\n",
       "</tr>\n",
       "<tr>\n",
       "  <th>ar.L2.norm_return</th> <td>   -0.0451</td> <td>    0.014</td> <td>   -3.187</td> <td> 0.001</td> <td>   -0.073</td> <td>   -0.017</td>\n",
       "</tr>\n",
       "<tr>\n",
       "  <th>ar.L3.norm_return</th> <td>   -0.0140</td> <td>    0.014</td> <td>   -0.992</td> <td> 0.321</td> <td>   -0.042</td> <td>    0.014</td>\n",
       "</tr>\n",
       "<tr>\n",
       "  <th>ar.L4.norm_return</th> <td>   -0.0147</td> <td>    0.014</td> <td>   -1.038</td> <td> 0.299</td> <td>   -0.042</td> <td>    0.013</td>\n",
       "</tr>\n",
       "<tr>\n",
       "  <th>ar.L5.norm_return</th> <td>   -0.0386</td> <td>    0.014</td> <td>   -2.730</td> <td> 0.006</td> <td>   -0.066</td> <td>   -0.011</td>\n",
       "</tr>\n",
       "<tr>\n",
       "  <th>ar.L6.norm_return</th> <td>   -0.0232</td> <td>    0.014</td> <td>   -1.638</td> <td> 0.101</td> <td>   -0.051</td> <td>    0.005</td>\n",
       "</tr>\n",
       "<tr>\n",
       "  <th>ar.L7.norm_return</th> <td>   -0.0389</td> <td>    0.014</td> <td>   -2.762</td> <td> 0.006</td> <td>   -0.067</td> <td>   -0.011</td>\n",
       "</tr>\n",
       "</table>\n",
       "<table class=\"simpletable\">\n",
       "<caption>Roots</caption>\n",
       "<tr>\n",
       "    <td></td>   <th>            Real</th>  <th>         Imaginary</th> <th>         Modulus</th>  <th>        Frequency</th>\n",
       "</tr>\n",
       "<tr>\n",
       "  <th>AR.1</th> <td>           1.2978</td> <td>          -0.7660j</td> <td>           1.5070</td> <td>          -0.0849</td>\n",
       "</tr>\n",
       "<tr>\n",
       "  <th>AR.2</th> <td>           1.2978</td> <td>          +0.7660j</td> <td>           1.5070</td> <td>           0.0849</td>\n",
       "</tr>\n",
       "<tr>\n",
       "  <th>AR.3</th> <td>           0.2153</td> <td>          -1.6118j</td> <td>           1.6261</td> <td>          -0.2289</td>\n",
       "</tr>\n",
       "<tr>\n",
       "  <th>AR.4</th> <td>           0.2153</td> <td>          +1.6118j</td> <td>           1.6261</td> <td>           0.2289</td>\n",
       "</tr>\n",
       "<tr>\n",
       "  <th>AR.5</th> <td>          -1.5925</td> <td>          -0.0000j</td> <td>           1.5925</td> <td>          -0.5000</td>\n",
       "</tr>\n",
       "<tr>\n",
       "  <th>AR.6</th> <td>          -1.0143</td> <td>          -1.2874j</td> <td>           1.6389</td> <td>          -0.3562</td>\n",
       "</tr>\n",
       "<tr>\n",
       "  <th>AR.7</th> <td>          -1.0143</td> <td>          +1.2874j</td> <td>           1.6389</td> <td>           0.3562</td>\n",
       "</tr>\n",
       "</table>"
      ],
      "text/plain": [
       "<class 'statsmodels.iolib.summary.Summary'>\n",
       "\"\"\"\n",
       "                              ARMA Model Results                              \n",
       "==============================================================================\n",
       "Dep. Variable:            norm_return   No. Observations:                 5020\n",
       "Model:                     ARMA(7, 0)   Log Likelihood              -30502.512\n",
       "Method:                       css-mle   S.D. of innovations            105.347\n",
       "Date:                Wed, 14 Oct 2020   AIC                          61023.023\n",
       "Time:                        14:39:50   BIC                          61081.714\n",
       "Sample:                    01-10-1994   HQIC                         61043.589\n",
       "                         - 04-05-2013                                         \n",
       "=====================================================================================\n",
       "                        coef    std err          z      P>|z|      [0.025      0.975]\n",
       "-------------------------------------------------------------------------------------\n",
       "const                 2.7252      1.188      2.294      0.022       0.397       5.053\n",
       "ar.L1.norm_return    -0.0774      0.014     -5.485      0.000      -0.105      -0.050\n",
       "ar.L2.norm_return    -0.0451      0.014     -3.187      0.001      -0.073      -0.017\n",
       "ar.L3.norm_return    -0.0140      0.014     -0.992      0.321      -0.042       0.014\n",
       "ar.L4.norm_return    -0.0147      0.014     -1.038      0.299      -0.042       0.013\n",
       "ar.L5.norm_return    -0.0386      0.014     -2.730      0.006      -0.066      -0.011\n",
       "ar.L6.norm_return    -0.0232      0.014     -1.638      0.101      -0.051       0.005\n",
       "ar.L7.norm_return    -0.0389      0.014     -2.762      0.006      -0.067      -0.011\n",
       "                                    Roots                                    \n",
       "=============================================================================\n",
       "                  Real          Imaginary           Modulus         Frequency\n",
       "-----------------------------------------------------------------------------\n",
       "AR.1            1.2978           -0.7660j            1.5070           -0.0849\n",
       "AR.2            1.2978           +0.7660j            1.5070            0.0849\n",
       "AR.3            0.2153           -1.6118j            1.6261           -0.2289\n",
       "AR.4            0.2153           +1.6118j            1.6261            0.2289\n",
       "AR.5           -1.5925           -0.0000j            1.5925           -0.5000\n",
       "AR.6           -1.0143           -1.2874j            1.6389           -0.3562\n",
       "AR.7           -1.0143           +1.2874j            1.6389            0.3562\n",
       "-----------------------------------------------------------------------------\n",
       "\"\"\""
      ]
     },
     "execution_count": 34,
     "metadata": {},
     "output_type": "execute_result"
    }
   ],
   "source": [
    "model_ar7 = ARMA(train_df.norm_return , order = (7,0))\n",
    "results_ar7 = model_ar7.fit()\n",
    "results_ar7.summary()"
   ]
  },
  {
   "cell_type": "code",
   "execution_count": 35,
   "metadata": {},
   "outputs": [
    {
     "data": {
      "text/html": [
       "<table class=\"simpletable\">\n",
       "<caption>ARMA Model Results</caption>\n",
       "<tr>\n",
       "  <th>Dep. Variable:</th>      <td>return1</td>     <th>  No. Observations:  </th>   <td>5020</td>   \n",
       "</tr>\n",
       "<tr>\n",
       "  <th>Model:</th>            <td>ARMA(7, 0)</td>    <th>  Log Likelihood     </th> <td>-8054.618</td>\n",
       "</tr>\n",
       "<tr>\n",
       "  <th>Method:</th>             <td>css-mle</td>     <th>  S.D. of innovations</th>   <td>1.204</td>  \n",
       "</tr>\n",
       "<tr>\n",
       "  <th>Date:</th>          <td>Wed, 14 Oct 2020</td> <th>  AIC                </th> <td>16127.236</td>\n",
       "</tr>\n",
       "<tr>\n",
       "  <th>Time:</th>              <td>14:42:06</td>     <th>  BIC                </th> <td>16185.926</td>\n",
       "</tr>\n",
       "<tr>\n",
       "  <th>Sample:</th>           <td>01-10-1994</td>    <th>  HQIC               </th> <td>16147.802</td>\n",
       "</tr>\n",
       "<tr>\n",
       "  <th></th>                 <td>- 04-05-2013</td>   <th>                     </th>     <td> </td>    \n",
       "</tr>\n",
       "</table>\n",
       "<table class=\"simpletable\">\n",
       "<tr>\n",
       "        <td></td>           <th>coef</th>     <th>std err</th>      <th>z</th>      <th>P>|z|</th>  <th>[0.025</th>    <th>0.975]</th>  \n",
       "</tr>\n",
       "<tr>\n",
       "  <th>const</th>         <td>    0.0311</td> <td>    0.014</td> <td>    2.294</td> <td> 0.022</td> <td>    0.005</td> <td>    0.058</td>\n",
       "</tr>\n",
       "<tr>\n",
       "  <th>ar.L1.return1</th> <td>   -0.0774</td> <td>    0.014</td> <td>   -5.485</td> <td> 0.000</td> <td>   -0.105</td> <td>   -0.050</td>\n",
       "</tr>\n",
       "<tr>\n",
       "  <th>ar.L2.return1</th> <td>   -0.0451</td> <td>    0.014</td> <td>   -3.187</td> <td> 0.001</td> <td>   -0.073</td> <td>   -0.017</td>\n",
       "</tr>\n",
       "<tr>\n",
       "  <th>ar.L3.return1</th> <td>   -0.0140</td> <td>    0.014</td> <td>   -0.992</td> <td> 0.321</td> <td>   -0.042</td> <td>    0.014</td>\n",
       "</tr>\n",
       "<tr>\n",
       "  <th>ar.L4.return1</th> <td>   -0.0147</td> <td>    0.014</td> <td>   -1.038</td> <td> 0.299</td> <td>   -0.042</td> <td>    0.013</td>\n",
       "</tr>\n",
       "<tr>\n",
       "  <th>ar.L5.return1</th> <td>   -0.0386</td> <td>    0.014</td> <td>   -2.730</td> <td> 0.006</td> <td>   -0.066</td> <td>   -0.011</td>\n",
       "</tr>\n",
       "<tr>\n",
       "  <th>ar.L6.return1</th> <td>   -0.0232</td> <td>    0.014</td> <td>   -1.638</td> <td> 0.101</td> <td>   -0.051</td> <td>    0.005</td>\n",
       "</tr>\n",
       "<tr>\n",
       "  <th>ar.L7.return1</th> <td>   -0.0389</td> <td>    0.014</td> <td>   -2.762</td> <td> 0.006</td> <td>   -0.067</td> <td>   -0.011</td>\n",
       "</tr>\n",
       "</table>\n",
       "<table class=\"simpletable\">\n",
       "<caption>Roots</caption>\n",
       "<tr>\n",
       "    <td></td>   <th>            Real</th>  <th>         Imaginary</th> <th>         Modulus</th>  <th>        Frequency</th>\n",
       "</tr>\n",
       "<tr>\n",
       "  <th>AR.1</th> <td>           1.2978</td> <td>          -0.7660j</td> <td>           1.5070</td> <td>          -0.0849</td>\n",
       "</tr>\n",
       "<tr>\n",
       "  <th>AR.2</th> <td>           1.2978</td> <td>          +0.7660j</td> <td>           1.5070</td> <td>           0.0849</td>\n",
       "</tr>\n",
       "<tr>\n",
       "  <th>AR.3</th> <td>           0.2153</td> <td>          -1.6118j</td> <td>           1.6261</td> <td>          -0.2289</td>\n",
       "</tr>\n",
       "<tr>\n",
       "  <th>AR.4</th> <td>           0.2153</td> <td>          +1.6118j</td> <td>           1.6261</td> <td>           0.2289</td>\n",
       "</tr>\n",
       "<tr>\n",
       "  <th>AR.5</th> <td>          -1.5925</td> <td>          -0.0000j</td> <td>           1.5925</td> <td>          -0.5000</td>\n",
       "</tr>\n",
       "<tr>\n",
       "  <th>AR.6</th> <td>          -1.0143</td> <td>          -1.2874j</td> <td>           1.6389</td> <td>          -0.3562</td>\n",
       "</tr>\n",
       "<tr>\n",
       "  <th>AR.7</th> <td>          -1.0143</td> <td>          +1.2874j</td> <td>           1.6389</td> <td>           0.3562</td>\n",
       "</tr>\n",
       "</table>"
      ],
      "text/plain": [
       "<class 'statsmodels.iolib.summary.Summary'>\n",
       "\"\"\"\n",
       "                              ARMA Model Results                              \n",
       "==============================================================================\n",
       "Dep. Variable:                return1   No. Observations:                 5020\n",
       "Model:                     ARMA(7, 0)   Log Likelihood               -8054.618\n",
       "Method:                       css-mle   S.D. of innovations              1.204\n",
       "Date:                Wed, 14 Oct 2020   AIC                          16127.236\n",
       "Time:                        14:42:06   BIC                          16185.926\n",
       "Sample:                    01-10-1994   HQIC                         16147.802\n",
       "                         - 04-05-2013                                         \n",
       "=================================================================================\n",
       "                    coef    std err          z      P>|z|      [0.025      0.975]\n",
       "---------------------------------------------------------------------------------\n",
       "const             0.0311      0.014      2.294      0.022       0.005       0.058\n",
       "ar.L1.return1    -0.0774      0.014     -5.485      0.000      -0.105      -0.050\n",
       "ar.L2.return1    -0.0451      0.014     -3.187      0.001      -0.073      -0.017\n",
       "ar.L3.return1    -0.0140      0.014     -0.992      0.321      -0.042       0.014\n",
       "ar.L4.return1    -0.0147      0.014     -1.038      0.299      -0.042       0.013\n",
       "ar.L5.return1    -0.0386      0.014     -2.730      0.006      -0.066      -0.011\n",
       "ar.L6.return1    -0.0232      0.014     -1.638      0.101      -0.051       0.005\n",
       "ar.L7.return1    -0.0389      0.014     -2.762      0.006      -0.067      -0.011\n",
       "                                    Roots                                    \n",
       "=============================================================================\n",
       "                  Real          Imaginary           Modulus         Frequency\n",
       "-----------------------------------------------------------------------------\n",
       "AR.1            1.2978           -0.7660j            1.5070           -0.0849\n",
       "AR.2            1.2978           +0.7660j            1.5070            0.0849\n",
       "AR.3            0.2153           -1.6118j            1.6261           -0.2289\n",
       "AR.4            0.2153           +1.6118j            1.6261            0.2289\n",
       "AR.5           -1.5925           -0.0000j            1.5925           -0.5000\n",
       "AR.6           -1.0143           -1.2874j            1.6389           -0.3562\n",
       "AR.7           -1.0143           +1.2874j            1.6389            0.3562\n",
       "-----------------------------------------------------------------------------\n",
       "\"\"\""
      ]
     },
     "execution_count": 35,
     "metadata": {},
     "output_type": "execute_result"
    }
   ],
   "source": [
    "model_ar7 = ARMA(train_df.return1 , order = (7,0))\n",
    "results_ar7 = model_ar7.fit()\n",
    "results_ar7.summary()"
   ]
  },
  {
   "cell_type": "markdown",
   "metadata": {},
   "source": [
    "### Residuals Analysis"
   ]
  },
  {
   "cell_type": "code",
   "execution_count": 36,
   "metadata": {},
   "outputs": [],
   "source": [
    "train_df['res_priec'] = results_ar7.resid"
   ]
  },
  {
   "cell_type": "code",
   "execution_count": 37,
   "metadata": {},
   "outputs": [
    {
     "data": {
      "text/plain": [
       "3.9039505003599305e-05"
      ]
     },
     "execution_count": 37,
     "metadata": {},
     "output_type": "execute_result"
    }
   ],
   "source": [
    "train_df.res_priec.mean()"
   ]
  },
  {
   "cell_type": "code",
   "execution_count": 38,
   "metadata": {},
   "outputs": [
    {
     "data": {
      "text/plain": [
       "1.4496606672063954"
      ]
     },
     "execution_count": 38,
     "metadata": {},
     "output_type": "execute_result"
    }
   ],
   "source": [
    "train_df.res_priec.var()"
   ]
  },
  {
   "cell_type": "code",
   "execution_count": 39,
   "metadata": {},
   "outputs": [
    {
     "data": {
      "text/plain": [
       "(-70.7726312642594,\n",
       " 0.0,\n",
       " 0,\n",
       " 5019,\n",
       " {'1%': -3.4316535759402753,\n",
       "  '5%': -2.8621160400844468,\n",
       "  '10%': -2.567076626752987},\n",
       " 16032.275106718118)"
      ]
     },
     "execution_count": 39,
     "metadata": {},
     "output_type": "execute_result"
    }
   ],
   "source": [
    "sts.adfuller(train_df.res_priec)"
   ]
  },
  {
   "cell_type": "code",
   "execution_count": 41,
   "metadata": {},
   "outputs": [
    {
     "data": {
      "image/png": "[encoded data removed]",
      "text/plain": [
       "<Figure size 432x288 with 1 Axes>"
      ]
     },
     "metadata": {},
     "output_type": "display_data"
    }
   ],
   "source": [
    "sgt.plot_acf(train_df.res_priec, zero=False, lags=40)\n",
    "plt.title('AutoCorrelation Return Residuals', size=24)\n",
    "plt.show()"
   ]
  },
  {
   "cell_type": "code",
   "execution_count": 42,
   "metadata": {},
   "outputs": [
    {
     "data": {
      "image/png": "[encoded data removed]",
      "text/plain": [
       "<Figure size 1440x360 with 1 Axes>"
      ]
     },
     "metadata": {},
     "output_type": "display_data"
    }
   ],
   "source": [
    "train_df.res_priec[1:].plot(figsize=(20,5))\n",
    "plt.title(\"Residuals of Prices\", size=24)\n",
    "plt.show()"
   ]
  },
  {
   "cell_type": "code",
   "execution_count": null,
   "metadata": {},
   "outputs": [],
   "source": [
    "model_ar7 = ARMA(train_df.market_value , order = (7,0))\n",
    "results_ar7 = model_ar7.fit()\n",
    "results_ar7.summary()"
   ]
  }
 ],
 "metadata": {
  "kernelspec": {
   "display_name": "Python 3",
   "language": "python",
   "name": "python3"
  },
  "language_info": {
   "codemirror_mode": {
    "name": "ipython",
    "version": 3
   },
   "file_extension": ".py",
   "mimetype": "text/x-python",
   "name": "python",
   "nbconvert_exporter": "python",
   "pygments_lexer": "ipython3",
   "version": "3.8.3"
  }
 },
 "nbformat": 4,
 "nbformat_minor": 4
}
